{
 "cells": [
  {
   "cell_type": "markdown",
   "id": "65272fec-0257-47bd-8321-2aef3a8e592b",
   "metadata": {},
   "source": [
    "# 10th June Function Started"
   ]
  },
  {
   "cell_type": "code",
   "execution_count": null,
   "id": "85912d6d-6eb5-4a01-b657-14e4cd0dec5a",
   "metadata": {},
   "outputs": [],
   "source": []
  },
  {
   "cell_type": "markdown",
   "id": "fd501278-0d5e-47ae-a7ec-a47451972386",
   "metadata": {},
   "source": [
    "<small> Let's create a function to return least difference among three values </small>"
   ]
  },
  {
   "cell_type": "markdown",
   "id": "f1ec9e66-5363-4331-a77c-3aad153db2cc",
   "metadata": {},
   "source": [
    "<b> like other languages in python we use 'def' to define or create a function </b>"
   ]
  },
  {
   "cell_type": "code",
   "execution_count": 1,
   "id": "0b6018ff-540a-4bdd-8218-6581aca46755",
   "metadata": {},
   "outputs": [],
   "source": [
    "def least_difference(a,b,c):\n",
    "    diff1 = abs (a - b)\n",
    "    diff2 = abs (b - c)\n",
    "    diff3 = abs (c - a)\n",
    "    return min(diff1, diff2, diff3)"
   ]
  },
  {
   "cell_type": "code",
   "execution_count": 2,
   "id": "4b45b63f-ddd2-4a6c-a71f-661cc687b91b",
   "metadata": {},
   "outputs": [
    {
     "name": "stdout",
     "output_type": "stream",
     "text": [
      "9 0 1\n"
     ]
    }
   ],
   "source": [
    "print(\n",
    "    least_difference(1, 10, 100),\n",
    "    least_difference(1, 10, 10),\n",
    "    least_difference(5, 6, 7),\n",
    ")"
   ]
  },
  {
   "cell_type": "code",
   "execution_count": 3,
   "id": "585c1217-cd94-4bdc-9e97-95df0d113e86",
   "metadata": {},
   "outputs": [],
   "source": [
    "def least_difference(a, b, c):\n",
    "    \"\"\" Return the smallest difference between any two numbers among a, b and c. \n",
    "\n",
    "    >>> least_difference(1, 5, -5)\n",
    "    4\n",
    "    \"\"\"\n",
    "    # this above  \"\"\"abc\"\"\" is called docstring which is placed immediately after the header of a function. which may span multiple lines. \n",
    "    # this triple-quoted string also coulb be used as a comment if it is not assigned in any variable.\n",
    "    # when we call the help() on a function, it shows the docstring to describe what and how the function works.\n",
    "\n",
    "    \n",
    "    diff1 = abs (a - b)\n",
    "    diff2 =abs (b - c)\n",
    "    diff3 = abs (a - c)\n",
    "    return min(diff1, diff2, diff3)"
   ]
  },
  {
   "cell_type": "code",
   "execution_count": 5,
   "id": "53c05c03-38e6-4c05-aa33-b1b352c05e93",
   "metadata": {},
   "outputs": [
    {
     "name": "stdout",
     "output_type": "stream",
     "text": [
      "Help on function least_difference in module __main__:\n",
      "\n",
      "least_difference(a, b, c)\n",
      "    Return the smallest difference between any two numbers among a, b and c.\n",
      "\n",
      "    >>> least_difference(1, 5, -5)\n",
      "    4\n",
      "\n"
     ]
    }
   ],
   "source": [
    "help(least_difference)"
   ]
  },
  {
   "cell_type": "code",
   "execution_count": 9,
   "id": "b79cebfc-29d4-4176-9246-5120be4ba35a",
   "metadata": {},
   "outputs": [
    {
     "name": "stdout",
     "output_type": "stream",
     "text": [
      "Manish\n",
      "None\n"
     ]
    }
   ],
   "source": [
    "mystery = print(\"Manish\")\n",
    "print(mystery)"
   ]
  },
  {
   "cell_type": "code",
   "execution_count": 16,
   "id": "f1ba6580-5987-408f-9496-447e188773b8",
   "metadata": {},
   "outputs": [
    {
     "name": "stdout",
     "output_type": "stream",
     "text": [
      "b\n"
     ]
    }
   ],
   "source": [
    "a = 'b'\n",
    "\n",
    "print(a)"
   ]
  },
  {
   "cell_type": "markdown",
   "id": "567d2960-4f75-43fe-8f80-7e7a83058999",
   "metadata": {},
   "source": [
    "# Default Arguements"
   ]
  },
  {
   "cell_type": "markdown",
   "id": "ddb21b0d-c113-489a-ab4a-e331e1cf6f93",
   "metadata": {},
   "source": [
    "### we can specify a value for sep to put some special string in between our printed arguments:"
   ]
  },
  {
   "cell_type": "code",
   "execution_count": 17,
   "id": "e2b4323d-2302-4f9a-ac93-b1afafb9b914",
   "metadata": {},
   "outputs": [
    {
     "name": "stdout",
     "output_type": "stream",
     "text": [
      "1 < 2 < 3\n"
     ]
    }
   ],
   "source": [
    "print(1,2,3, sep =' < ')"
   ]
  },
  {
   "cell_type": "markdown",
   "id": "62cbbc47-107b-43f4-8503-49d0c2e141ab",
   "metadata": {},
   "source": [
    "#### Adding optional arguments with default values to the functions we define turns out to be pretty easy:"
   ]
  },
  {
   "cell_type": "code",
   "execution_count": 18,
   "id": "0bdc1d35-83a6-4c6a-a99e-5ae264c9b52a",
   "metadata": {},
   "outputs": [
    {
     "name": "stdout",
     "output_type": "stream",
     "text": [
      "Hello Colin\n",
      "Hello Manish\n",
      "Hello Sarita\n"
     ]
    }
   ],
   "source": [
    "def greet( who = \"Colin\"):\n",
    "    print(\"Hello\", who)\n",
    "\n",
    "greet()\n",
    "greet (who =\"Manish\")\n",
    "greet(\"Sarita\")"
   ]
  },
  {
   "cell_type": "code",
   "execution_count": 19,
   "id": "fcdf953b-6e72-4c73-b868-63070ca3884a",
   "metadata": {},
   "outputs": [
    {
     "name": "stdout",
     "output_type": "stream",
     "text": [
      "Call fn on the result of calling fn on arg\n"
     ]
    }
   ],
   "source": [
    "print( \"\"\"Call fn on the result of calling fn on arg\"\"\")"
   ]
  },
  {
   "cell_type": "markdown",
   "id": "2892922c-eaf9-4ed5-a0c2-ff94846b1b53",
   "metadata": {},
   "source": [
    "## Functions Applied to Functions"
   ]
  },
  {
   "cell_type": "markdown",
   "id": "57673e45-b59b-4465-a797-c52d9e036da8",
   "metadata": {},
   "source": [
    "<small>we can supply functions as arguments to other functions.</small>"
   ]
  },
  {
   "cell_type": "markdown",
   "id": "4520bf0d-9da0-4303-9e8c-e21ddba4fcdd",
   "metadata": {},
   "source": [
    "<small> Functions that operate on other functions are called \"higher-order functions.\" </small>"
   ]
  },
  {
   "cell_type": "code",
   "execution_count": 32,
   "id": "06ea5529-0169-4aae-8f9a-d88167bb9f8f",
   "metadata": {},
   "outputs": [
    {
     "name": "stdout",
     "output_type": "stream",
     "text": [
      "5\n",
      "25\n"
     ]
    }
   ],
   "source": [
    "def mult_by_five(x):\n",
    "    return 5 * x\n",
    "    # This function takes an argument x and returns the result of multiplying x by 5.\n",
    "\n",
    "def call(fn, arg):\n",
    "    \"\"\"call fn on arg\"\"\"\n",
    "    return fn(arg)\n",
    "    # This function takes two arguements: a function and an arguement.\n",
    "\n",
    "def squared_call(fn, arg):\n",
    "    \"\"\" call fn on the result of calling fn on arg\"\"\"\n",
    "    return fn(fn(arg))\n",
    "\n",
    "print(\n",
    "   call(mult_by_five, 1),\n",
    "    #In above scenario it call the call function which will then print 5 because in mult_by_five function\n",
    "    # it will return 5*1 =5 where this function provide x=1\n",
    "    squared_call(mult_by_five,1),\n",
    "    #In this scenario it does the same thing however squared function will return 5 * 5 \n",
    "    sep='\\n', \n",
    ")"
   ]
  },
  {
   "cell_type": "code",
   "execution_count": null,
   "id": "0551c8af-1793-4710-a218-02a2ed80661f",
   "metadata": {},
   "outputs": [],
   "source": []
  }
 ],
 "metadata": {
  "kernelspec": {
   "display_name": "Python 3 (ipykernel)",
   "language": "python",
   "name": "python3"
  },
  "language_info": {
   "codemirror_mode": {
    "name": "ipython",
    "version": 3
   },
   "file_extension": ".py",
   "mimetype": "text/x-python",
   "name": "python",
   "nbconvert_exporter": "python",
   "pygments_lexer": "ipython3",
   "version": "3.12.4"
  }
 },
 "nbformat": 4,
 "nbformat_minor": 5
}
