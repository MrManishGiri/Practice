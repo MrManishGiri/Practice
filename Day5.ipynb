{
 "cells": [
  {
   "cell_type": "markdown",
   "id": "62140061-78b2-46c3-ba74-b006b3e1b62b",
   "metadata": {},
   "source": [
    "# This is practice set of Function in Python"
   ]
  },
  {
   "cell_type": "markdown",
   "id": "2a42e07f-22f1-425d-b49a-a53e69915e95",
   "metadata": {},
   "source": [
    "### This function is used to print round_to_two_places of any number."
   ]
  },
  {
   "cell_type": "code",
   "execution_count": 2,
   "id": "79162f42-2583-4bc2-99a5-6ca225945148",
   "metadata": {},
   "outputs": [
    {
     "name": "stdout",
     "output_type": "stream",
     "text": [
      "3.14\n"
     ]
    }
   ],
   "source": [
    "def round_to_two_places(num):\n",
    "    \"\"\"Return the given number rounded to two decimal places. \n",
    "    \n",
    "    >>> round_to_two_places(3.14159)\n",
    "    3.14\n",
    "    \"\"\"\n",
    "    # Replace this body with your own code.\n",
    "    return round(num, 2)\n",
    "def call(fn, arg):\n",
    "    return fn(arg)\n",
    "\n",
    "print(\n",
    "    call(round_to_two_places, 3.14159)\n",
    ")"
   ]
  },
  {
   "cell_type": "code",
   "execution_count": 3,
   "id": "8cf29aa2-610b-4321-a25b-a3ac50a95092",
   "metadata": {},
   "outputs": [
    {
     "name": "stdout",
     "output_type": "stream",
     "text": [
      "Help on built-in function round in module builtins:\n",
      "\n",
      "round(number, ndigits=None)\n",
      "    Round a number to a given precision in decimal digits.\n",
      "\n",
      "    The return value is an integer if ndigits is omitted or None.  Otherwise\n",
      "    the return value has the same type as the number.  ndigits may be negative.\n",
      "\n"
     ]
    }
   ],
   "source": [
    "help(round)"
   ]
  },
  {
   "cell_type": "markdown",
   "id": "0c76e622-7b54-4d1c-9642-d8a383569d89",
   "metadata": {},
   "source": [
    "<strong> if we want to remove last digits and make it as 0, we have to write ndigits in negative. for example when we calculate any long distances last digits of that distance make people confuse, in such case we can use negative ndigits to round them. </strong>"
   ]
  },
  {
   "cell_type": "code",
   "execution_count": 4,
   "id": "8ce231a4-f8e7-425d-a1b7-a46bda38cd9d",
   "metadata": {},
   "outputs": [
    {
     "name": "stdout",
     "output_type": "stream",
     "text": [
      "24000\n"
     ]
    }
   ],
   "source": [
    "def distance_round_negative(distance):\n",
    "    \"\"\"Return the given number rounded to three decimal places in negative or from right to left. \n",
    "    \n",
    "    >>> distance_round_negative(24161)\n",
    "    24000\n",
    "    \"\"\"\n",
    "    # Replace this body with your own code.\n",
    "    return round(distance, -3)\n",
    "def call(fn, arg):\n",
    "    return fn(arg)\n",
    "\n",
    "print(\n",
    "    call(distance_round_negative, 24161)\n",
    ")"
   ]
  },
  {
   "cell_type": "markdown",
   "id": "8b3f55c7-63dd-46d3-919e-e5f938b4d609",
   "metadata": {},
   "source": [
    "#### Exercise of Default argument in function. if there is no second arguement is provided, it should assume 3 friends:"
   ]
  },
  {
   "cell_type": "code",
   "execution_count": 5,
   "id": "d3dfefd4-24a6-42e5-b14f-84a69ca93bc3",
   "metadata": {},
   "outputs": [
    {
     "name": "stdout",
     "output_type": "stream",
     "text": [
      "1\n"
     ]
    }
   ],
   "source": [
    "def to_smash(total_candies, n_friends=3):\n",
    "    \"\"\"Return the number of leftover candies that must be smashed after distributing\n",
    "    the given number of candies evenly between 3 friends.\n",
    "    \n",
    "    >>> to_smash(91)\n",
    "    1\n",
    "    \"\"\"\n",
    "    return total_candies % n_friends\n",
    "\n",
    "def call(fn, arg):\n",
    "    return fn(arg)\n",
    "\n",
    "print(\n",
    "    call(to_smash, 91)\n",
    ")"
   ]
  },
  {
   "cell_type": "markdown",
   "id": "36db3754-6b70-441e-8c8f-e3561e069bf7",
   "metadata": {},
   "source": [
    "# Booleans and Conditionals\n",
    "<small> Using booleans for branching logic </small>"
   ]
  },
  {
   "cell_type": "code",
   "execution_count": 1,
   "id": "13cd6b97-ae84-4850-8f4a-800e01b6232f",
   "metadata": {},
   "outputs": [
    {
     "name": "stdout",
     "output_type": "stream",
     "text": [
      "True\n",
      "<class 'bool'>\n"
     ]
    }
   ],
   "source": [
    "x = True\n",
    "print(x)\n",
    "print(type(x))"
   ]
  },
  {
   "cell_type": "markdown",
   "id": "9c33b8c3-9474-469b-b645-079d195851eb",
   "metadata": {},
   "source": [
    "<strong>Rather than putting True or False directly in our code, we usually get boolean values from boolean operators.</strong>"
   ]
  },
  {
   "cell_type": "markdown",
   "id": "68e59de1-ae35-4ef8-83f5-94079460714e",
   "metadata": {},
   "source": [
    "<small>These are operators that answer yes/no questions.</small>\n",
    "## Comparison Operations\n",
    "| Operation  |     Description\t\t      |   Operation\t    |   Description |\n",
    "|--------|------------|------------|-------------|\n",
    "| a == b\t     |     a equal to b\t\t      |    a != b       |    a not equal to b   |\n",
    "| a < b\t         |     a less than b\t\t  |    a > b\t    |    a greater than b   |\n",
    "| a <= b\t     |  a less than or equal to b |\t   a >= b       |    a greater than or equal to b | \n"
   ]
  },
  {
   "cell_type": "code",
   "execution_count": 4,
   "id": "ff6bc68d-e3ad-48c2-aa1a-133a2a5c3a05",
   "metadata": {},
   "outputs": [
    {
     "name": "stdout",
     "output_type": "stream",
     "text": [
      "can a 17-year-old eligible for driving licence? False\n",
      "can a 21-year-old eligible for driving licence? True\n"
     ]
    }
   ],
   "source": [
    "def eligible_for_driving_licence(age):\n",
    "    \"\"\" can someone of the given age eligible for driving licence in Nepal?\"\"\"\n",
    "    # The law says that anyone who apply for licence should be at least 18 years old\n",
    "    return age >=18\n",
    "\n",
    "print(\"can a 17-year-old eligible for driving licence?\", eligible_for_driving_licence(17))\n",
    "print(\"can a 21-year-old eligible for driving licence?\", eligible_for_driving_licence(21))"
   ]
  },
  {
   "cell_type": "markdown",
   "id": "b270ebd5-68db-4381-8c49-5788ae18a2ad",
   "metadata": {},
   "source": [
    "#### we can check if a number is odd by checking that the modulus with 2 returns 1:"
   ]
  },
  {
   "cell_type": "code",
   "execution_count": 5,
   "id": "80edce7d-b6f3-4862-9bf8-aa4183e81184",
   "metadata": {},
   "outputs": [
    {
     "name": "stdout",
     "output_type": "stream",
     "text": [
      "Is 100 odd? False\n",
      "Is -1 odd? True\n"
     ]
    }
   ],
   "source": [
    "def is_odd(n):\n",
    "    return (n % 2) ==1\n",
    "\n",
    "print (\"Is 100 odd?\", is_odd(100))\n",
    "print (\"Is -1 odd?\", is_odd(-1))"
   ]
  },
  {
   "cell_type": "code",
   "execution_count": null,
   "id": "8ce64abb-9099-46e7-9133-6f033099d0b0",
   "metadata": {},
   "outputs": [],
   "source": []
  }
 ],
 "metadata": {
  "kernelspec": {
   "display_name": "Python 3 (ipykernel)",
   "language": "python",
   "name": "python3"
  },
  "language_info": {
   "codemirror_mode": {
    "name": "ipython",
    "version": 3
   },
   "file_extension": ".py",
   "mimetype": "text/x-python",
   "name": "python",
   "nbconvert_exporter": "python",
   "pygments_lexer": "ipython3",
   "version": "3.12.4"
  }
 },
 "nbformat": 4,
 "nbformat_minor": 5
}
