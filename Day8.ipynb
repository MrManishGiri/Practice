{
 "cells": [
  {
   "cell_type": "markdown",
   "id": "b7b172bb-3ae4-4426-ab9e-f7c39c9dd866",
   "metadata": {},
   "source": [
    "# 6\n",
    "#### we've seen that calling bool() on an integer retruns false if it's equal to 0 and True otherwise. what happens if we call int() on a bool? "
   ]
  },
  {
   "cell_type": "code",
   "execution_count": 1,
   "id": "120de198-a83e-43af-9607-a971cd54a670",
   "metadata": {},
   "outputs": [],
   "source": [
    "def exactly_one_topping(ketchup, mustard, onion):\n",
    "    \"\"\" Return whether the customer wants exactly one of the three available toppings on their hot dog.\"\"\"\n",
    "    return (katchup + mustard + onion) ==1"
   ]
  },
  {
   "cell_type": "markdown",
   "id": "03137050-aa98-4ce2-9d80-11e8f92377ad",
   "metadata": {},
   "source": [
    "   # Lists"
   ]
  },
  {
   "cell_type": "markdown",
   "id": "a6d25fa9-183a-40ef-9bda-4ec56a24474e",
   "metadata": {},
   "source": [
    "lists in python represent ordered sequences of values. Here is an example of Lists"
   ]
  },
  {
   "cell_type": "code",
   "execution_count": 2,
   "id": "f4ec67db-5c64-45a3-a0f9-1cec792d781d",
   "metadata": {},
   "outputs": [
    {
     "data": {
      "text/plain": [
       "list"
      ]
     },
     "execution_count": 2,
     "metadata": {},
     "output_type": "execute_result"
    }
   ],
   "source": [
    "primes = [ 2, 3, 5, 7]\n",
    "type(primes)"
   ]
  },
  {
   "cell_type": "markdown",
   "id": "bd704a4c-998b-4e6f-b233-b54ea4accb35",
   "metadata": {},
   "source": [
    "we can put different types of things in list."
   ]
  },
  {
   "cell_type": "code",
   "execution_count": 3,
   "id": "52a704e2-0bee-485c-a641-e5c79da14d35",
   "metadata": {},
   "outputs": [],
   "source": [
    "planets = [ 'Mercury', 'Venus', 'Earth', 'Mars', 'Jupiter', 'Saturn', 'Uranus', 'Neptune']"
   ]
  },
  {
   "cell_type": "markdown",
   "id": "011fd8c4-9e6b-419d-bc90-23fb1326fc53",
   "metadata": {},
   "source": [
    "we can even make list of lists:"
   ]
  },
  {
   "cell_type": "code",
   "execution_count": 4,
   "id": "182c355c-5056-40ad-878f-34ab951ecf5a",
   "metadata": {},
   "outputs": [],
   "source": [
    "hands = [\n",
    "    ['J', 'Q', 'K'],\n",
    "    ['2', '2', '2'],\n",
    "    ['6', 'A', 'K'],\n",
    "]\n",
    "# It can be written on one line, but it can get hard to read)\n",
    "# hands= [['J', 'Q', 'K'], ['2', '2', '2'], ['6', 'A', 'K']]"
   ]
  },
  {
   "cell_type": "markdown",
   "id": "68316f97-906f-4026-9db2-698156d26cea",
   "metadata": {},
   "source": [
    "A list can contain a mix of different types of variable:"
   ]
  },
  {
   "cell_type": "code",
   "execution_count": 5,
   "id": "af81089e-490c-41c0-9cfa-feb2b2a0093c",
   "metadata": {},
   "outputs": [],
   "source": [
    "my_favorite_things = [32, 'raindrops on roses', help]"
   ]
  },
  {
   "cell_type": "markdown",
   "id": "0c56c87f-8045-402e-b35a-c6625831f4d4",
   "metadata": {},
   "source": [
    "# Indexing"
   ]
  },
  {
   "cell_type": "markdown",
   "id": "2fbfdaa4-4b35-4306-ae59-af46e89b136f",
   "metadata": {},
   "source": [
    "we can access individual list elements with square brackets."
   ]
  },
  {
   "cell_type": "markdown",
   "id": "37244ed8-08e5-439b-bf44-8a91065b974f",
   "metadata": {},
   "source": [
    "Which planet is closest to the sun?"
   ]
  },
  {
   "cell_type": "code",
   "execution_count": 6,
   "id": "5223f997-b952-480b-8cda-00fc8f75d830",
   "metadata": {},
   "outputs": [
    {
     "data": {
      "text/plain": [
       "'Mercury'"
      ]
     },
     "execution_count": 6,
     "metadata": {},
     "output_type": "execute_result"
    }
   ],
   "source": [
    "planets [0]"
   ]
  },
  {
   "cell_type": "markdown",
   "id": "970b3420-677d-4edb-a296-f6dcf9a0ab0f",
   "metadata": {},
   "source": [
    "which is the next closest planet?"
   ]
  },
  {
   "cell_type": "code",
   "execution_count": 7,
   "id": "77d6e642-355d-4cd3-ab86-1975137400ac",
   "metadata": {},
   "outputs": [
    {
     "data": {
      "text/plain": [
       "'Venus'"
      ]
     },
     "execution_count": 7,
     "metadata": {},
     "output_type": "execute_result"
    }
   ],
   "source": [
    "planets[1]"
   ]
  },
  {
   "cell_type": "markdown",
   "id": "6dce80f1-63cd-4200-b2de-241e1aa9eb5c",
   "metadata": {},
   "source": [
    "which planet is furthest from the sun?"
   ]
  },
  {
   "cell_type": "code",
   "execution_count": 8,
   "id": "c56026f7-bc3f-4f60-93ab-a2dc5826406b",
   "metadata": {},
   "outputs": [
    {
     "data": {
      "text/plain": [
       "'Neptune'"
      ]
     },
     "execution_count": 8,
     "metadata": {},
     "output_type": "execute_result"
    }
   ],
   "source": [
    "planets [-1]"
   ]
  },
  {
   "cell_type": "code",
   "execution_count": 9,
   "id": "6b30ace9-6dc2-424d-83d5-c3026b519ce1",
   "metadata": {},
   "outputs": [
    {
     "data": {
      "text/plain": [
       "'Uranus'"
      ]
     },
     "execution_count": 9,
     "metadata": {},
     "output_type": "execute_result"
    }
   ],
   "source": [
    "planets [-2]"
   ]
  },
  {
   "cell_type": "markdown",
   "id": "f5ec1886-89b5-40fb-9bf1-c3cf8edc9d96",
   "metadata": {},
   "source": [
    "# Slicing"
   ]
  },
  {
   "cell_type": "markdown",
   "id": "e6129be4-e249-443a-9a7d-c7f2f6061246",
   "metadata": {},
   "source": [
    "what are the first three planets ? "
   ]
  },
  {
   "cell_type": "code",
   "execution_count": 10,
   "id": "e7421740-0ac3-436d-85ad-ed3dbdcdbd4f",
   "metadata": {},
   "outputs": [
    {
     "data": {
      "text/plain": [
       "['Mercury', 'Venus', 'Earth']"
      ]
     },
     "execution_count": 10,
     "metadata": {},
     "output_type": "execute_result"
    }
   ],
   "source": [
    "planets [0:3]"
   ]
  },
  {
   "cell_type": "markdown",
   "id": "653cada1-5a81-4420-a652-557bc18ba05e",
   "metadata": {},
   "source": [
    "planets [0:3] is our way of asking the elements of planets starting from index 0 and continuing up to but not including index 3."
   ]
  },
  {
   "cell_type": "markdown",
   "id": "f08643b3-bb77-4718-ad53-b51c99014091",
   "metadata": {},
   "source": [
    "The starting and ending indices are both optional. If I leave out the start index, it's assumed to be 0. So, I could rewrite the expression above as:"
   ]
  },
  {
   "cell_type": "code",
   "execution_count": 11,
   "id": "fe60e36a-74ad-4602-86fa-441e0ff05495",
   "metadata": {},
   "outputs": [
    {
     "data": {
      "text/plain": [
       "['Mercury', 'Venus', 'Earth']"
      ]
     },
     "execution_count": 11,
     "metadata": {},
     "output_type": "execute_result"
    }
   ],
   "source": [
    "planets[:3]"
   ]
  },
  {
   "cell_type": "markdown",
   "id": "29e3bfe7-3196-40f1-8128-67564f786c2b",
   "metadata": {},
   "source": [
    "If I leave out the end index, it's assumed to be the length of the list."
   ]
  },
  {
   "cell_type": "code",
   "execution_count": 12,
   "id": "f591fa29-4447-4c6a-8afc-97e5fda0f2ea",
   "metadata": {},
   "outputs": [
    {
     "data": {
      "text/plain": [
       "['Mars', 'Jupiter', 'Saturn', 'Uranus', 'Neptune']"
      ]
     },
     "execution_count": 12,
     "metadata": {},
     "output_type": "execute_result"
    }
   ],
   "source": [
    "planets[3:]"
   ]
  },
  {
   "cell_type": "markdown",
   "id": "147ec008-8c42-4135-8703-ebbe572b6a5f",
   "metadata": {},
   "source": [
    "we can also negative indices when slicing:"
   ]
  },
  {
   "cell_type": "code",
   "execution_count": 13,
   "id": "67e33cf9-9d60-456a-b830-e03a89b75280",
   "metadata": {},
   "outputs": [
    {
     "data": {
      "text/plain": [
       "['Venus', 'Earth', 'Mars', 'Jupiter', 'Saturn', 'Uranus']"
      ]
     },
     "execution_count": 13,
     "metadata": {},
     "output_type": "execute_result"
    }
   ],
   "source": [
    "# All the planets except first and last\n",
    "planets [1:-1]"
   ]
  },
  {
   "cell_type": "markdown",
   "id": "addbd5fe-0533-4694-87a4-5b051c606090",
   "metadata": {},
   "source": [
    "The last three planets  "
   ]
  },
  {
   "cell_type": "code",
   "execution_count": 14,
   "id": "19f1c871-b53f-4dd4-b7d4-c246acb2c8b6",
   "metadata": {},
   "outputs": [
    {
     "data": {
      "text/plain": [
       "['Saturn', 'Uranus', 'Neptune']"
      ]
     },
     "execution_count": 14,
     "metadata": {},
     "output_type": "execute_result"
    }
   ],
   "source": [
    "planets [-3:]"
   ]
  },
  {
   "cell_type": "markdown",
   "id": "9df35b08-7283-4047-abf6-86e484c28285",
   "metadata": {},
   "source": [
    "# Changing lists"
   ]
  },
  {
   "cell_type": "markdown",
   "id": "18a27f9d-0fc7-4412-8623-7c75610dd2de",
   "metadata": {},
   "source": [
    "Lists are \"mutable\", meaning they can be modified \"in place\"."
   ]
  },
  {
   "cell_type": "markdown",
   "id": "9c2e348f-1ba0-4d08-9da6-cfeae88066c7",
   "metadata": {},
   "source": [
    "one way to modify a list to assign to an index or slice expression."
   ]
  },
  {
   "cell_type": "code",
   "execution_count": 15,
   "id": "67fb3a91-48c4-4013-9c55-8ed07329b914",
   "metadata": {},
   "outputs": [
    {
     "data": {
      "text/plain": [
       "['Mercury', 'Venus', 'Earth', 'Mars', 'Jupiter', 'Manish', 'Uranus', 'Neptune']"
      ]
     },
     "execution_count": 15,
     "metadata": {},
     "output_type": "execute_result"
    }
   ],
   "source": [
    "planets[5]= 'Manish'\n",
    "planets"
   ]
  },
  {
   "cell_type": "markdown",
   "id": "d095bd10-05fe-4f5d-bd3b-212bab0c3775",
   "metadata": {},
   "source": [
    "# List functions"
   ]
  },
  {
   "cell_type": "markdown",
   "id": "03b140a2-6a03-4993-aa54-777b86dad516",
   "metadata": {},
   "source": [
    "python has several useful functions for working with lists."
   ]
  },
  {
   "cell_type": "markdown",
   "id": "7c4d2f4b-6b38-4622-83a2-4bb83df11827",
   "metadata": {},
   "source": [
    "len gives the length of a list:"
   ]
  },
  {
   "cell_type": "code",
   "execution_count": 16,
   "id": "59bd5706-6bca-4b68-a221-0bb66b150772",
   "metadata": {},
   "outputs": [
    {
     "data": {
      "text/plain": [
       "8"
      ]
     },
     "execution_count": 16,
     "metadata": {},
     "output_type": "execute_result"
    }
   ],
   "source": [
    "len(planets)"
   ]
  },
  {
   "cell_type": "markdown",
   "id": "e1ab7adb-3469-4459-8b91-09679c7b8cfa",
   "metadata": {},
   "source": [
    "'sorted' returns a sorted version of a list:"
   ]
  },
  {
   "cell_type": "code",
   "execution_count": 17,
   "id": "6b00d7a7-c756-4121-9635-fb6764a1fe47",
   "metadata": {},
   "outputs": [
    {
     "data": {
      "text/plain": [
       "['Earth', 'Jupiter', 'Manish', 'Mars', 'Mercury', 'Neptune', 'Uranus', 'Venus']"
      ]
     },
     "execution_count": 17,
     "metadata": {},
     "output_type": "execute_result"
    }
   ],
   "source": [
    "# The planets sorted in alphabetical order\n",
    "sorted(planets)"
   ]
  },
  {
   "cell_type": "markdown",
   "id": "18042287-b9a4-4435-a7ad-4e5b07f68dd5",
   "metadata": {},
   "source": [
    "Sum "
   ]
  },
  {
   "cell_type": "code",
   "execution_count": 18,
   "id": "6261ef87-43af-4275-8fc6-37a94a743203",
   "metadata": {},
   "outputs": [
    {
     "data": {
      "text/plain": [
       "17"
      ]
     },
     "execution_count": 18,
     "metadata": {},
     "output_type": "execute_result"
    }
   ],
   "source": [
    "primes = [2,3,5,7]\n",
    "sum(primes)"
   ]
  },
  {
   "cell_type": "markdown",
   "id": "0843e696-b626-469b-99fe-a9d275b9b7cb",
   "metadata": {},
   "source": [
    "min and max"
   ]
  },
  {
   "cell_type": "code",
   "execution_count": 19,
   "id": "0a7b2877-61e6-462a-94f6-3f311b35dfdf",
   "metadata": {},
   "outputs": [
    {
     "data": {
      "text/plain": [
       "7"
      ]
     },
     "execution_count": 19,
     "metadata": {},
     "output_type": "execute_result"
    }
   ],
   "source": [
    "max(primes)"
   ]
  },
  {
   "cell_type": "markdown",
   "id": "74579357-ac5c-4a75-bf69-b7d757c1a7de",
   "metadata": {},
   "source": [
    "# imaginary part of numbers\n",
    "imag\n",
    "\n",
    "Everytihng in python is an object, what does that mean?\n",
    "==> Objects carry some things around with them, we can access that stuff using python's dot syntax."
   ]
  },
  {
   "cell_type": "markdown",
   "id": "c9b8d327-90a9-4d1d-a1b7-70a4083673b4",
   "metadata": {},
   "source": [
    "For example, numbers in python carry around an associated variable called imag\n",
    "representing their imaginary part."
   ]
  },
  {
   "cell_type": "code",
   "execution_count": 22,
   "id": "d65c737f-447b-45fb-88a2-8915c1c0cc49",
   "metadata": {},
   "outputs": [
    {
     "name": "stdout",
     "output_type": "stream",
     "text": [
      "0\n"
     ]
    }
   ],
   "source": [
    "x =12 \n",
    "# x is a real number,so its imaginary part is 0.\n",
    "print(x.imag)"
   ]
  },
  {
   "cell_type": "code",
   "execution_count": 23,
   "id": "9b32dedd-292e-4212-9578-bf2fda326720",
   "metadata": {},
   "outputs": [
    {
     "name": "stdout",
     "output_type": "stream",
     "text": [
      "3.0\n"
     ]
    }
   ],
   "source": [
    "# Here's how to make a complex number, in case you've ever been curious:\n",
    "c = 12 + 3j\n",
    "print (c.imag)"
   ]
  },
  {
   "cell_type": "markdown",
   "id": "12320b17-81d3-4a3c-af6c-e0b8b9bd9d72",
   "metadata": {},
   "source": [
    "The things an object caries around can also include functions. A function attached to an object called a method. Non-function things attached to an object, such as imag are called attributes."
   ]
  },
  {
   "cell_type": "raw",
   "id": "a5e45159-693f-47f6-a9d0-fd8072a8fca7",
   "metadata": {},
   "source": [
    "for example, numbers have a method called bit_length. we can access it using dot syntax:"
   ]
  },
  {
   "cell_type": "code",
   "execution_count": 24,
   "id": "0f3d8b1a-2105-443e-9b20-9dc2daf59216",
   "metadata": {},
   "outputs": [
    {
     "data": {
      "text/plain": [
       "<function int.bit_length()>"
      ]
     },
     "execution_count": 24,
     "metadata": {},
     "output_type": "execute_result"
    }
   ],
   "source": [
    "x.bit_length"
   ]
  },
  {
   "cell_type": "code",
   "execution_count": 25,
   "id": "8775e1df-f45e-4ec3-8d07-cbb15f6ef29e",
   "metadata": {},
   "outputs": [
    {
     "name": "stdout",
     "output_type": "stream",
     "text": [
      "12\n"
     ]
    }
   ],
   "source": [
    "print(x)"
   ]
  },
  {
   "cell_type": "markdown",
   "id": "5c44ea58-f907-44e2-b873-ad5227fb2ad5",
   "metadata": {},
   "source": [
    "To actually call it, we add parentheses:"
   ]
  },
  {
   "cell_type": "code",
   "execution_count": 26,
   "id": "cdb1e8e3-2091-4703-8622-48fbf02250e3",
   "metadata": {},
   "outputs": [
    {
     "data": {
      "text/plain": [
       "4"
      ]
     },
     "execution_count": 26,
     "metadata": {},
     "output_type": "execute_result"
    }
   ],
   "source": [
    "x.bit_length()"
   ]
  },
  {
   "cell_type": "markdown",
   "id": "08b2e783-f6fd-49de-a19f-8aff6c6bfc39",
   "metadata": {},
   "source": [
    "bit_length() method of builtins.int instances Number of bits necessary to represent self in binary."
   ]
  },
  {
   "cell_type": "code",
   "execution_count": 27,
   "id": "7533aeb8-c083-4224-8cff-fac33d726a04",
   "metadata": {},
   "outputs": [
    {
     "name": "stdout",
     "output_type": "stream",
     "text": [
      "Help on built-in function bit_length:\n",
      "\n",
      "bit_length() method of builtins.int instance\n",
      "    Number of bits necessary to represent self in binary.\n",
      "\n",
      "    >>> bin(37)\n",
      "    '0b100101'\n",
      "    >>> (37).bit_length()\n",
      "    6\n",
      "\n"
     ]
    }
   ],
   "source": [
    "help(x.bit_length)"
   ]
  },
  {
   "cell_type": "code",
   "execution_count": null,
   "id": "68d7150f-d021-461d-876d-5b7ad4cbdfe5",
   "metadata": {},
   "outputs": [],
   "source": []
  }
 ],
 "metadata": {
  "kernelspec": {
   "display_name": "Python 3 (ipykernel)",
   "language": "python",
   "name": "python3"
  },
  "language_info": {
   "codemirror_mode": {
    "name": "ipython",
    "version": 3
   },
   "file_extension": ".py",
   "mimetype": "text/x-python",
   "name": "python",
   "nbconvert_exporter": "python",
   "pygments_lexer": "ipython3",
   "version": "3.12.4"
  }
 },
 "nbformat": 4,
 "nbformat_minor": 5
}
