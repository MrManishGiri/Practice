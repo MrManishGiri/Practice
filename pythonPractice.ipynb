{
 "cells": [
  {
   "cell_type": "markdown",
   "id": "c2510392",
   "metadata": {
    "tags": []
   },
   "source": [
    "# DAY 1"
   ]
  },
  {
   "cell_type": "markdown",
   "id": "a2b57a97",
   "metadata": {},
   "source": [
    "Nothing"
   ]
  },
  {
   "cell_type": "markdown",
   "id": "e92af917",
   "metadata": {},
   "source": [
    "# Day 2\n"
   ]
  },
  {
   "cell_type": "markdown",
   "id": "9acdaad6",
   "metadata": {},
   "source": [
    "lecture and some installation of anaconda and requirements.txt"
   ]
  },
  {
   "cell_type": "markdown",
   "id": "ad5629fc",
   "metadata": {},
   "source": [
    "# Day 3"
   ]
  },
  {
   "cell_type": "markdown",
   "id": "61aa6f5e",
   "metadata": {},
   "source": [
    "## Defining sum of two variables\n"
   ]
  },
  {
   "cell_type": "code",
   "execution_count": 2,
   "id": "bca462cc",
   "metadata": {},
   "outputs": [],
   "source": [
    "a=5\n",
    "b=5"
   ]
  },
  {
   "cell_type": "code",
   "execution_count": 3,
   "id": "5379ac80",
   "metadata": {},
   "outputs": [
    {
     "data": {
      "text/plain": [
       "10"
      ]
     },
     "execution_count": 3,
     "metadata": {},
     "output_type": "execute_result"
    }
   ],
   "source": [
    "a+b"
   ]
  },
  {
   "cell_type": "markdown",
   "id": "64b33e60",
   "metadata": {},
   "source": [
    "## Defining sub of two variables\n"
   ]
  },
  {
   "cell_type": "code",
   "execution_count": 4,
   "id": "ccbf5da1",
   "metadata": {},
   "outputs": [
    {
     "data": {
      "text/plain": [
       "0"
      ]
     },
     "execution_count": 4,
     "metadata": {},
     "output_type": "execute_result"
    }
   ],
   "source": [
    "a-b"
   ]
  },
  {
   "cell_type": "markdown",
   "id": "9f5d8ba4",
   "metadata": {},
   "source": [
    "## String datatypes\n",
    "### various ways to print String"
   ]
  },
  {
   "cell_type": "code",
   "execution_count": 5,
   "id": "42cfcdf5",
   "metadata": {},
   "outputs": [
    {
     "data": {
      "text/plain": [
       "str"
      ]
     },
     "execution_count": 5,
     "metadata": {},
     "output_type": "execute_result"
    }
   ],
   "source": [
    "c='My name is Manish Giri'\n",
    "type(c)"
   ]
  },
  {
   "cell_type": "code",
   "execution_count": 6,
   "id": "5496afea",
   "metadata": {},
   "outputs": [
    {
     "data": {
      "text/plain": [
       "str"
      ]
     },
     "execution_count": 6,
     "metadata": {},
     "output_type": "execute_result"
    }
   ],
   "source": [
    "d=\"I live in Belbhariya\"\n",
    "type(d)"
   ]
  },
  {
   "cell_type": "code",
   "execution_count": 7,
   "id": "f27dca22",
   "metadata": {},
   "outputs": [
    {
     "name": "stdout",
     "output_type": "stream",
     "text": [
      "I live in Belbhariya\n"
     ]
    }
   ],
   "source": [
    "print(d)"
   ]
  },
  {
   "cell_type": "code",
   "execution_count": 8,
   "id": "4e8fbaaa",
   "metadata": {},
   "outputs": [],
   "source": [
    "e='Martin says,\"I am getting bored\"'"
   ]
  },
  {
   "cell_type": "code",
   "execution_count": 9,
   "id": "a20b9cea",
   "metadata": {},
   "outputs": [
    {
     "name": "stdout",
     "output_type": "stream",
     "text": [
      "Martin says,\"I am getting bored\"\n"
     ]
    }
   ],
   "source": [
    "print(e)"
   ]
  },
  {
   "cell_type": "code",
   "execution_count": 10,
   "id": "ef18e9a6",
   "metadata": {},
   "outputs": [],
   "source": [
    "f=\"Doctor says, 'do exercise daily'\""
   ]
  },
  {
   "cell_type": "code",
   "execution_count": 11,
   "id": "30ec6d32",
   "metadata": {},
   "outputs": [
    {
     "name": "stdout",
     "output_type": "stream",
     "text": [
      "Doctor says, 'do exercise daily'\n"
     ]
    }
   ],
   "source": [
    "print(f)"
   ]
  },
  {
   "cell_type": "code",
   "execution_count": 12,
   "id": "3e8ac038",
   "metadata": {},
   "outputs": [],
   "source": [
    "paragraph=\"\"\"I get up at 5 am in the morning.\n",
    "Then I do my daily routine.\n",
    "After that I wear my uniform and come to the school\"\"\""
   ]
  },
  {
   "cell_type": "code",
   "execution_count": 13,
   "id": "c143297a",
   "metadata": {},
   "outputs": [
    {
     "name": "stdout",
     "output_type": "stream",
     "text": [
      "I get up at 5 am in the morning.\n",
      "Then I do my daily routine.\n",
      "After that I wear my uniform and come to the school\n"
     ]
    }
   ],
   "source": [
    "print(paragraph)"
   ]
  },
  {
   "cell_type": "markdown",
   "id": "1d880bc6",
   "metadata": {},
   "source": [
    "### Passing value by variable in a string / String concatenation"
   ]
  },
  {
   "cell_type": "code",
   "execution_count": 14,
   "id": "ad220bcd",
   "metadata": {},
   "outputs": [],
   "source": [
    "myname=\"Manish Giri\""
   ]
  },
  {
   "cell_type": "code",
   "execution_count": 15,
   "id": "e9e17bdb",
   "metadata": {},
   "outputs": [
    {
     "name": "stdout",
     "output_type": "stream",
     "text": [
      "My name is Manish Giri\n"
     ]
    }
   ],
   "source": [
    "print(\"My name is {}\".format(myname))"
   ]
  },
  {
   "cell_type": "code",
   "execution_count": 1,
   "id": "43435919",
   "metadata": {},
   "outputs": [
    {
     "name": "stdout",
     "output_type": "stream",
     "text": [
      "I am 21 years old\n"
     ]
    }
   ],
   "source": [
    "myAge=\"21 years old\"\n",
    "print(\"I am {}\".format(myAge))"
   ]
  },
  {
   "cell_type": "code",
   "execution_count": 16,
   "id": "4bfc99ca",
   "metadata": {},
   "outputs": [
    {
     "data": {
      "text/plain": [
       "'I eat anapple'"
      ]
     },
     "execution_count": 16,
     "metadata": {},
     "output_type": "execute_result"
    }
   ],
   "source": [
    "g=\"I eat an\"\n",
    "h=\"apple\"\n",
    "g+h"
   ]
  },
  {
   "cell_type": "code",
   "execution_count": 17,
   "id": "eb5ecc48",
   "metadata": {},
   "outputs": [
    {
     "data": {
      "text/plain": [
       "'I eat an apple'"
      ]
     },
     "execution_count": 17,
     "metadata": {},
     "output_type": "execute_result"
    }
   ],
   "source": [
    "g+\" \"+h"
   ]
  },
  {
   "cell_type": "markdown",
   "id": "006cedb2",
   "metadata": {},
   "source": [
    "### to convert into upper or lower case"
   ]
  },
  {
   "cell_type": "code",
   "execution_count": 18,
   "id": "53094b51",
   "metadata": {},
   "outputs": [
    {
     "data": {
      "text/plain": [
       "'APPLE'"
      ]
     },
     "execution_count": 18,
     "metadata": {},
     "output_type": "execute_result"
    }
   ],
   "source": [
    "i=\"Apple\"\n",
    "i.upper()"
   ]
  },
  {
   "cell_type": "code",
   "execution_count": 19,
   "id": "18952429",
   "metadata": {},
   "outputs": [
    {
     "data": {
      "text/plain": [
       "'apple'"
      ]
     },
     "execution_count": 19,
     "metadata": {},
     "output_type": "execute_result"
    }
   ],
   "source": [
    "i.lower()"
   ]
  },
  {
   "cell_type": "code",
   "execution_count": 20,
   "id": "2ebbfbcb",
   "metadata": {},
   "outputs": [
    {
     "name": "stdout",
     "output_type": "stream",
     "text": [
      "5\n"
     ]
    }
   ],
   "source": [
    "print(len(i))"
   ]
  },
  {
   "cell_type": "markdown",
   "id": "e04c36a9",
   "metadata": {},
   "source": [
    "#### Indexing"
   ]
  },
  {
   "cell_type": "code",
   "execution_count": 21,
   "id": "bfde5ad5",
   "metadata": {},
   "outputs": [
    {
     "data": {
      "text/plain": [
       "'A'"
      ]
     },
     "execution_count": 21,
     "metadata": {},
     "output_type": "execute_result"
    }
   ],
   "source": [
    "i[0]"
   ]
  },
  {
   "cell_type": "code",
   "execution_count": 22,
   "id": "8bcda74a",
   "metadata": {},
   "outputs": [
    {
     "data": {
      "text/plain": [
       "'e'"
      ]
     },
     "execution_count": 22,
     "metadata": {},
     "output_type": "execute_result"
    }
   ],
   "source": [
    "i[4]"
   ]
  },
  {
   "cell_type": "code",
   "execution_count": 23,
   "id": "4209135e",
   "metadata": {},
   "outputs": [
    {
     "data": {
      "text/plain": [
       "'e'"
      ]
     },
     "execution_count": 23,
     "metadata": {},
     "output_type": "execute_result"
    }
   ],
   "source": [
    "i[-1]"
   ]
  },
  {
   "cell_type": "markdown",
   "id": "75f72e1d",
   "metadata": {},
   "source": [
    "### Strip() method= to delete the gaps in strings or text cleaning methods"
   ]
  },
  {
   "cell_type": "code",
   "execution_count": 24,
   "id": "3cf5d904",
   "metadata": {},
   "outputs": [
    {
     "name": "stdout",
     "output_type": "stream",
     "text": [
      "      I am here to close the gaps         \n"
     ]
    }
   ],
   "source": [
    "j=\"      I am here to close the gaps         \"\n",
    "print(j)"
   ]
  },
  {
   "cell_type": "code",
   "execution_count": 25,
   "id": "cd5f169c",
   "metadata": {},
   "outputs": [
    {
     "data": {
      "text/plain": [
       "'I am here to close the gaps'"
      ]
     },
     "execution_count": 25,
     "metadata": {},
     "output_type": "execute_result"
    }
   ],
   "source": [
    "j.strip()"
   ]
  },
  {
   "cell_type": "code",
   "execution_count": 26,
   "id": "83fd3732",
   "metadata": {},
   "outputs": [
    {
     "name": "stdout",
     "output_type": "stream",
     "text": [
      "42\n"
     ]
    }
   ],
   "source": [
    "print(len(j))"
   ]
  },
  {
   "cell_type": "code",
   "execution_count": 27,
   "id": "e92724ff",
   "metadata": {},
   "outputs": [
    {
     "name": "stdout",
     "output_type": "stream",
     "text": [
      "I want  to drink a  coffee\n"
     ]
    }
   ],
   "source": [
    "k=\"I want  to drink a  coffee\"\n",
    "print(k)"
   ]
  },
  {
   "cell_type": "code",
   "execution_count": 28,
   "id": "3e3477f2",
   "metadata": {},
   "outputs": [],
   "source": [
    "l=k.replace(\"  \",\" \")"
   ]
  },
  {
   "cell_type": "code",
   "execution_count": 29,
   "id": "357afd02",
   "metadata": {},
   "outputs": [
    {
     "name": "stdout",
     "output_type": "stream",
     "text": [
      "I want to drink a coffee\n"
     ]
    }
   ],
   "source": [
    "print(l)"
   ]
  },
  {
   "cell_type": "code",
   "execution_count": 30,
   "id": "ca1b0a61",
   "metadata": {},
   "outputs": [
    {
     "name": "stdout",
     "output_type": "stream",
     "text": [
      "I want to drink a tea\n"
     ]
    }
   ],
   "source": [
    "m=l.replace(\"coffee\",\"tea\")\n",
    "print(m)"
   ]
  },
  {
   "cell_type": "markdown",
   "id": "bf8dcddd",
   "metadata": {},
   "source": [
    "## split() method in string"
   ]
  },
  {
   "cell_type": "code",
   "execution_count": 31,
   "id": "ab389600",
   "metadata": {},
   "outputs": [
    {
     "name": "stdout",
     "output_type": "stream",
     "text": [
      "['I', 'want', 'to', 'drink', 'a', 'coffee']\n"
     ]
    }
   ],
   "source": [
    "n=l.split(\" \")\n",
    "print(n)"
   ]
  },
  {
   "cell_type": "code",
   "execution_count": 32,
   "id": "321a5cf2",
   "metadata": {},
   "outputs": [
    {
     "name": "stdout",
     "output_type": "stream",
     "text": [
      "6\n"
     ]
    }
   ],
   "source": [
    "print(len(n))"
   ]
  },
  {
   "cell_type": "code",
   "execution_count": 33,
   "id": "35ddbaa0",
   "metadata": {},
   "outputs": [
    {
     "data": {
      "text/plain": [
       "list"
      ]
     },
     "execution_count": 33,
     "metadata": {},
     "output_type": "execute_result"
    }
   ],
   "source": [
    "type(n)"
   ]
  },
  {
   "cell_type": "code",
   "execution_count": 34,
   "id": "7c065792",
   "metadata": {},
   "outputs": [],
   "source": [
    "o=\"Nepal_Rs\"\n"
   ]
  },
  {
   "cell_type": "code",
   "execution_count": 35,
   "id": "ded254dd",
   "metadata": {},
   "outputs": [
    {
     "data": {
      "text/plain": [
       "'Nepal'"
      ]
     },
     "execution_count": 35,
     "metadata": {},
     "output_type": "execute_result"
    }
   ],
   "source": [
    "o.split(\"_\")[0]\n"
   ]
  },
  {
   "cell_type": "code",
   "execution_count": 36,
   "id": "733ff81f",
   "metadata": {},
   "outputs": [
    {
     "data": {
      "text/plain": [
       "25"
      ]
     },
     "execution_count": 36,
     "metadata": {},
     "output_type": "execute_result"
    }
   ],
   "source": [
    "p=\"I_wanted_to_go/by/a_train\"\n",
    "len(p)"
   ]
  },
  {
   "cell_type": "markdown",
   "id": "4bd683b4",
   "metadata": {},
   "source": [
    "#### in this scenario go/by/a is indexed in the same index number"
   ]
  },
  {
   "cell_type": "code",
   "execution_count": 37,
   "id": "d9200af8",
   "metadata": {},
   "outputs": [
    {
     "data": {
      "text/plain": [
       "'train'"
      ]
     },
     "execution_count": 37,
     "metadata": {},
     "output_type": "execute_result"
    }
   ],
   "source": [
    "p.split(\"_\")[4]"
   ]
  },
  {
   "cell_type": "code",
   "execution_count": 38,
   "id": "3efbac8e",
   "metadata": {},
   "outputs": [
    {
     "data": {
      "text/plain": [
       "'a_train'"
      ]
     },
     "execution_count": 38,
     "metadata": {},
     "output_type": "execute_result"
    }
   ],
   "source": [
    "p.split(\"/\")[-1]"
   ]
  },
  {
   "cell_type": "code",
   "execution_count": 39,
   "id": "3292a60d",
   "metadata": {},
   "outputs": [
    {
     "data": {
      "text/plain": [
       "'train'"
      ]
     },
     "execution_count": 39,
     "metadata": {},
     "output_type": "execute_result"
    }
   ],
   "source": [
    "p.split(\"/\")[-1].split('_')[1]"
   ]
  },
  {
   "cell_type": "code",
   "execution_count": 40,
   "id": "07467644",
   "metadata": {},
   "outputs": [
    {
     "data": {
      "text/plain": [
       "'train'"
      ]
     },
     "execution_count": 40,
     "metadata": {},
     "output_type": "execute_result"
    }
   ],
   "source": [
    "p.split('_')[-1]"
   ]
  },
  {
   "cell_type": "markdown",
   "id": "1f270071",
   "metadata": {},
   "source": [
    "# Collection DataTypes"
   ]
  },
  {
   "cell_type": "markdown",
   "id": "a3904594",
   "metadata": {},
   "source": [
    "# List DataTypes"
   ]
  },
  {
   "cell_type": "code",
   "execution_count": 41,
   "id": "29ac5713",
   "metadata": {},
   "outputs": [
    {
     "name": "stdout",
     "output_type": "stream",
     "text": [
      "[1, 2, 3, 4, 5, 6]\n"
     ]
    },
    {
     "data": {
      "text/plain": [
       "list"
      ]
     },
     "execution_count": 41,
     "metadata": {},
     "output_type": "execute_result"
    }
   ],
   "source": [
    "numbers=[1,2,3,4,5,6]\n",
    "print(numbers)\n",
    "type(numbers)"
   ]
  },
  {
   "cell_type": "code",
   "execution_count": 42,
   "id": "82be14d4",
   "metadata": {},
   "outputs": [
    {
     "name": "stdout",
     "output_type": "stream",
     "text": [
      "[4, 5, 6, 7, 9.8, 2.5]\n"
     ]
    },
    {
     "data": {
      "text/plain": [
       "list"
      ]
     },
     "execution_count": 42,
     "metadata": {},
     "output_type": "execute_result"
    }
   ],
   "source": [
    "numbers2=[4,5,6,7,9.8,2.5]\n",
    "\n",
    "print(numbers2)\n",
    "type(numbers2)"
   ]
  },
  {
   "cell_type": "code",
   "execution_count": 43,
   "id": "e915106c",
   "metadata": {},
   "outputs": [
    {
     "name": "stdout",
     "output_type": "stream",
     "text": [
      "['apple', 'mango', 'lichi']\n"
     ]
    },
    {
     "data": {
      "text/plain": [
       "list"
      ]
     },
     "execution_count": 43,
     "metadata": {},
     "output_type": "execute_result"
    }
   ],
   "source": [
    "fruits=[\"apple\",\"mango\",\"lichi\"]\n",
    "print(fruits)\n",
    "type(fruits)"
   ]
  },
  {
   "cell_type": "code",
   "execution_count": 44,
   "id": "04509ac4",
   "metadata": {},
   "outputs": [
    {
     "name": "stdout",
     "output_type": "stream",
     "text": [
      "['apple', 1, 2, 'mango', 'Ram']\n"
     ]
    },
    {
     "data": {
      "text/plain": [
       "list"
      ]
     },
     "execution_count": 44,
     "metadata": {},
     "output_type": "execute_result"
    }
   ],
   "source": [
    "mixed=['apple',1,2,'mango','Ram']\n",
    "print(mixed)\n",
    "type(mixed)"
   ]
  },
  {
   "cell_type": "markdown",
   "id": "51f646c4",
   "metadata": {},
   "source": [
    "#### list Indexing"
   ]
  },
  {
   "cell_type": "code",
   "execution_count": 45,
   "id": "903b5672",
   "metadata": {},
   "outputs": [
    {
     "data": {
      "text/plain": [
       "'mango'"
      ]
     },
     "execution_count": 45,
     "metadata": {},
     "output_type": "execute_result"
    }
   ],
   "source": [
    "mixed[3]"
   ]
  },
  {
   "cell_type": "code",
   "execution_count": 46,
   "id": "4b7f9d92",
   "metadata": {},
   "outputs": [
    {
     "data": {
      "text/plain": [
       "'Ram'"
      ]
     },
     "execution_count": 46,
     "metadata": {},
     "output_type": "execute_result"
    }
   ],
   "source": [
    "mixed[-1]"
   ]
  },
  {
   "cell_type": "markdown",
   "id": "0651f38e",
   "metadata": {},
   "source": [
    "# Day4\n",
    "\n",
    "### done by searching on internet"
   ]
  },
  {
   "cell_type": "code",
   "execution_count": 47,
   "id": "8f23868c",
   "metadata": {},
   "outputs": [
    {
     "name": "stdout",
     "output_type": "stream",
     "text": [
      "Be careful not to fall off!\n"
     ]
    }
   ],
   "source": [
    "the_world_is_flat = True\n",
    "if the_world_is_flat:\n",
    "    print(\"Be careful not to fall off!\")"
   ]
  },
  {
   "cell_type": "code",
   "execution_count": 48,
   "id": "8c61f9c7",
   "metadata": {},
   "outputs": [
    {
     "data": {
      "text/plain": [
       "16"
      ]
     },
     "execution_count": 48,
     "metadata": {},
     "output_type": "execute_result"
    }
   ],
   "source": [
    "4**2"
   ]
  },
  {
   "cell_type": "code",
   "execution_count": 49,
   "id": "9d97298f",
   "metadata": {},
   "outputs": [
    {
     "data": {
      "text/plain": [
       "64"
      ]
     },
     "execution_count": 49,
     "metadata": {},
     "output_type": "execute_result"
    }
   ],
   "source": [
    "4**3"
   ]
  },
  {
   "cell_type": "code",
   "execution_count": 50,
   "id": "81d8f9cb",
   "metadata": {},
   "outputs": [
    {
     "data": {
      "text/plain": [
       "256"
      ]
     },
     "execution_count": 50,
     "metadata": {},
     "output_type": "execute_result"
    }
   ],
   "source": [
    "4**4"
   ]
  },
  {
   "cell_type": "markdown",
   "id": "b8519c36",
   "metadata": {},
   "source": [
    "### If you don’t want characters prefaced by \\ to be interpreted as special characters, you can use raw strings by adding an r before the first quote:"
   ]
  },
  {
   "cell_type": "code",
   "execution_count": 3,
   "id": "3870cde7",
   "metadata": {},
   "outputs": [
    {
     "name": "stdout",
     "output_type": "stream",
     "text": [
      "C:\\some\n",
      "ame\n"
     ]
    }
   ],
   "source": [
    "print('C:\\some\\name')  # here \\n means newline!\n",
    "\n",
    "\n"
   ]
  },
  {
   "cell_type": "code",
   "execution_count": 4,
   "id": "7a4f323a",
   "metadata": {},
   "outputs": [
    {
     "name": "stdout",
     "output_type": "stream",
     "text": [
      "C:\\some\\name\n"
     ]
    }
   ],
   "source": [
    "print(r'C:\\some\\name')  # note the r before the quote\n"
   ]
  },
  {
   "cell_type": "markdown",
   "id": "87cb93fb",
   "metadata": {},
   "source": [
    "# Day 4\n",
    "### class session\n"
   ]
  },
  {
   "cell_type": "code",
   "execution_count": 1,
   "id": "12853015",
   "metadata": {},
   "outputs": [
    {
     "data": {
      "text/plain": [
       "'manish'"
      ]
     },
     "execution_count": 1,
     "metadata": {},
     "output_type": "execute_result"
    }
   ],
   "source": [
    "mixedlist=[1,4,6,9,\"manish\"]\n",
    "mixedlist[-1]"
   ]
  },
  {
   "cell_type": "markdown",
   "id": "ba5e7795",
   "metadata": {},
   "source": [
    "## updating the list using indexing"
   ]
  },
  {
   "cell_type": "code",
   "execution_count": 2,
   "id": "cb0656bf",
   "metadata": {},
   "outputs": [
    {
     "data": {
      "text/plain": [
       "[1, 4, 6, 9, 'manish']"
      ]
     },
     "execution_count": 2,
     "metadata": {},
     "output_type": "execute_result"
    }
   ],
   "source": [
    "mixedlist"
   ]
  },
  {
   "cell_type": "code",
   "execution_count": 5,
   "id": "59c98002",
   "metadata": {},
   "outputs": [],
   "source": [
    "mixedlist[3]=\"Giri\""
   ]
  },
  {
   "cell_type": "code",
   "execution_count": 7,
   "id": "da74923c",
   "metadata": {},
   "outputs": [],
   "source": [
    "mixedlist[0]=0"
   ]
  },
  {
   "cell_type": "code",
   "execution_count": 8,
   "id": "f0dabacf",
   "metadata": {},
   "outputs": [
    {
     "data": {
      "text/plain": [
       "[0, 4, 6, 'Giri', 'manish']"
      ]
     },
     "execution_count": 8,
     "metadata": {},
     "output_type": "execute_result"
    }
   ],
   "source": [
    "mixedlist"
   ]
  },
  {
   "cell_type": "code",
   "execution_count": 9,
   "id": "e4f14527",
   "metadata": {},
   "outputs": [
    {
     "data": {
      "text/plain": [
       "['Giri']"
      ]
     },
     "execution_count": 9,
     "metadata": {},
     "output_type": "execute_result"
    }
   ],
   "source": [
    "mixedlist[3:4]"
   ]
  },
  {
   "cell_type": "code",
   "execution_count": 10,
   "id": "36902722",
   "metadata": {},
   "outputs": [
    {
     "data": {
      "text/plain": [
       "['Giri', 'manish']"
      ]
     },
     "execution_count": 10,
     "metadata": {},
     "output_type": "execute_result"
    }
   ],
   "source": [
    "mixedlist[3:5]"
   ]
  },
  {
   "cell_type": "code",
   "execution_count": 11,
   "id": "08f9ca5f",
   "metadata": {},
   "outputs": [
    {
     "data": {
      "text/plain": [
       "[0, 'Giri']"
      ]
     },
     "execution_count": 11,
     "metadata": {},
     "output_type": "execute_result"
    }
   ],
   "source": [
    "[mixedlist[0], mixedlist[3]]"
   ]
  },
  {
   "cell_type": "code",
   "execution_count": 51,
   "id": "04404df9",
   "metadata": {},
   "outputs": [],
   "source": [
    "listname=['car','van','truck','manish',9,'giri']"
   ]
  },
  {
   "cell_type": "code",
   "execution_count": 52,
   "id": "e104029c",
   "metadata": {},
   "outputs": [
    {
     "data": {
      "text/plain": [
       "list[slice(1, 5, None)]"
      ]
     },
     "execution_count": 52,
     "metadata": {},
     "output_type": "execute_result"
    }
   ],
   "source": [
    "list[1:5]"
   ]
  },
  {
   "cell_type": "markdown",
   "id": "5f5aa795",
   "metadata": {},
   "source": [
    "## list concatenation methods"
   ]
  },
  {
   "cell_type": "code",
   "execution_count": 24,
   "id": "76ddb2f2",
   "metadata": {},
   "outputs": [],
   "source": [
    "w=[1,2,3]\n",
    "x=[4,5,6]"
   ]
  },
  {
   "cell_type": "code",
   "execution_count": 25,
   "id": "146c90d9",
   "metadata": {},
   "outputs": [
    {
     "data": {
      "text/plain": [
       "[1, 2, 3, 4, 5, 6]"
      ]
     },
     "execution_count": 25,
     "metadata": {},
     "output_type": "execute_result"
    }
   ],
   "source": [
    "w+x"
   ]
  },
  {
   "cell_type": "code",
   "execution_count": 26,
   "id": "380ba0a6",
   "metadata": {},
   "outputs": [
    {
     "data": {
      "text/plain": [
       "['giri', 'manish', 'giri', 'manish']"
      ]
     },
     "execution_count": 26,
     "metadata": {},
     "output_type": "execute_result"
    }
   ],
   "source": [
    "y=[\"giri\",\"manish\"]\n",
    "y*2"
   ]
  },
  {
   "cell_type": "code",
   "execution_count": 27,
   "id": "ce5693be",
   "metadata": {},
   "outputs": [],
   "source": [
    "y.insert(2,\"human\")"
   ]
  },
  {
   "cell_type": "code",
   "execution_count": 28,
   "id": "e1f8e515",
   "metadata": {},
   "outputs": [
    {
     "name": "stdout",
     "output_type": "stream",
     "text": [
      "['giri', 'manish', 'human']\n"
     ]
    }
   ],
   "source": [
    "print(y)"
   ]
  },
  {
   "cell_type": "code",
   "execution_count": 30,
   "id": "fd9385bf",
   "metadata": {},
   "outputs": [],
   "source": [
    "y.insert(1, \"something\")"
   ]
  },
  {
   "cell_type": "code",
   "execution_count": 31,
   "id": "3ad30fdb",
   "metadata": {},
   "outputs": [
    {
     "name": "stdout",
     "output_type": "stream",
     "text": [
      "['giri', 'something', 'manish', 'human']\n"
     ]
    }
   ],
   "source": [
    "print(y)"
   ]
  },
  {
   "cell_type": "markdown",
   "id": "298ef9bf",
   "metadata": {},
   "source": [
    "### append"
   ]
  },
  {
   "cell_type": "code",
   "execution_count": 32,
   "id": "6ec9395f",
   "metadata": {},
   "outputs": [],
   "source": [
    "y.append(\"being\")"
   ]
  },
  {
   "cell_type": "code",
   "execution_count": 33,
   "id": "82a7e5e4",
   "metadata": {},
   "outputs": [
    {
     "name": "stdout",
     "output_type": "stream",
     "text": [
      "['giri', 'something', 'manish', 'human', 'being']\n"
     ]
    }
   ],
   "source": [
    "print(y)"
   ]
  },
  {
   "cell_type": "markdown",
   "id": "f20bf1fc",
   "metadata": {},
   "source": [
    "### extend"
   ]
  },
  {
   "cell_type": "code",
   "execution_count": 34,
   "id": "f7cb985b",
   "metadata": {},
   "outputs": [],
   "source": [
    "y.extend(w)"
   ]
  },
  {
   "cell_type": "code",
   "execution_count": 35,
   "id": "90577054",
   "metadata": {},
   "outputs": [
    {
     "data": {
      "text/plain": [
       "['giri', 'something', 'manish', 'human', 'being', 1, 2, 3]"
      ]
     },
     "execution_count": 35,
     "metadata": {},
     "output_type": "execute_result"
    }
   ],
   "source": [
    "y"
   ]
  },
  {
   "cell_type": "markdown",
   "id": "edbd7d60",
   "metadata": {},
   "source": [
    "## Deleting elements from list"
   ]
  },
  {
   "cell_type": "code",
   "execution_count": 42,
   "id": "78d709ba",
   "metadata": {},
   "outputs": [
    {
     "data": {
      "text/plain": [
       "['giri', 'manish', 'human', 'being', 1, 2, 3]"
      ]
     },
     "execution_count": 42,
     "metadata": {},
     "output_type": "execute_result"
    }
   ],
   "source": [
    "y"
   ]
  },
  {
   "cell_type": "code",
   "execution_count": 43,
   "id": "5c9ce723",
   "metadata": {},
   "outputs": [],
   "source": [
    "y.insert(1,\"something\")"
   ]
  },
  {
   "cell_type": "code",
   "execution_count": 44,
   "id": "4c4fbf4d",
   "metadata": {},
   "outputs": [],
   "source": [
    "y.remove(\"something\")  # particular value user wants to remove"
   ]
  },
  {
   "cell_type": "code",
   "execution_count": 45,
   "id": "1393ab67",
   "metadata": {},
   "outputs": [
    {
     "data": {
      "text/plain": [
       "['giri', 'manish', 'human', 'being', 1, 2, 3]"
      ]
     },
     "execution_count": 45,
     "metadata": {},
     "output_type": "execute_result"
    }
   ],
   "source": [
    "y"
   ]
  },
  {
   "cell_type": "code",
   "execution_count": 46,
   "id": "3b39e1cd",
   "metadata": {},
   "outputs": [
    {
     "data": {
      "text/plain": [
       "1"
      ]
     },
     "execution_count": 46,
     "metadata": {},
     "output_type": "execute_result"
    }
   ],
   "source": [
    "y.pop(4)"
   ]
  },
  {
   "cell_type": "code",
   "execution_count": 47,
   "id": "3c1f7704",
   "metadata": {},
   "outputs": [
    {
     "data": {
      "text/plain": [
       "['giri', 'manish', 'human', 'being', 2, 3]"
      ]
     },
     "execution_count": 47,
     "metadata": {},
     "output_type": "execute_result"
    }
   ],
   "source": [
    "y"
   ]
  },
  {
   "cell_type": "code",
   "execution_count": 48,
   "id": "1c894f42",
   "metadata": {},
   "outputs": [
    {
     "data": {
      "text/plain": [
       "['giri', 'manish', 'human', 'being', 2]"
      ]
     },
     "execution_count": 48,
     "metadata": {},
     "output_type": "execute_result"
    }
   ],
   "source": [
    "del y[5]\n",
    "y"
   ]
  },
  {
   "cell_type": "code",
   "execution_count": 49,
   "id": "89888c5c",
   "metadata": {},
   "outputs": [],
   "source": [
    "y.clear()    # delete all the elements from the list"
   ]
  },
  {
   "cell_type": "code",
   "execution_count": 50,
   "id": "bab0bc5d",
   "metadata": {},
   "outputs": [
    {
     "data": {
      "text/plain": [
       "[]"
      ]
     },
     "execution_count": 50,
     "metadata": {},
     "output_type": "execute_result"
    }
   ],
   "source": [
    "y"
   ]
  },
  {
   "cell_type": "markdown",
   "id": "6245f91c",
   "metadata": {},
   "source": [
    "# Tuples"
   ]
  },
  {
   "cell_type": "code",
   "execution_count": 53,
   "id": "811e9f95",
   "metadata": {},
   "outputs": [],
   "source": [
    "tuple1 =(1,4,5)"
   ]
  },
  {
   "cell_type": "code",
   "execution_count": 54,
   "id": "17b2f02a",
   "metadata": {},
   "outputs": [
    {
     "name": "stdout",
     "output_type": "stream",
     "text": [
      "(1, 4, 5)\n",
      "<class 'tuple'>\n"
     ]
    }
   ],
   "source": [
    "print(tuple1)\n",
    "print(type(tuple1))"
   ]
  },
  {
   "cell_type": "code",
   "execution_count": 55,
   "id": "e096a6e7",
   "metadata": {},
   "outputs": [
    {
     "data": {
      "text/plain": [
       "1"
      ]
     },
     "execution_count": 55,
     "metadata": {},
     "output_type": "execute_result"
    }
   ],
   "source": [
    "tuple1[0]"
   ]
  },
  {
   "cell_type": "code",
   "execution_count": 56,
   "id": "072b162f",
   "metadata": {},
   "outputs": [
    {
     "data": {
      "text/plain": [
       "5"
      ]
     },
     "execution_count": 56,
     "metadata": {},
     "output_type": "execute_result"
    }
   ],
   "source": [
    "tuple1[-1]"
   ]
  },
  {
   "cell_type": "code",
   "execution_count": 58,
   "id": "ee4183b2",
   "metadata": {},
   "outputs": [
    {
     "data": {
      "text/plain": [
       "(1, 4)"
      ]
     },
     "execution_count": 58,
     "metadata": {},
     "output_type": "execute_result"
    }
   ],
   "source": [
    "tuple1[0:2]"
   ]
  },
  {
   "cell_type": "code",
   "execution_count": 59,
   "id": "9e2c9f3c",
   "metadata": {},
   "outputs": [
    {
     "ename": "TypeError",
     "evalue": "'tuple' object does not support item assignment",
     "output_type": "error",
     "traceback": [
      "\u001b[1;31m---------------------------------------------------------------------------\u001b[0m",
      "\u001b[1;31mTypeError\u001b[0m                                 Traceback (most recent call last)",
      "Cell \u001b[1;32mIn[59], line 1\u001b[0m\n\u001b[1;32m----> 1\u001b[0m tuple1[\u001b[38;5;241m2\u001b[39m]\u001b[38;5;241m=\u001b[39m\u001b[38;5;241m6\u001b[39m\n",
      "\u001b[1;31mTypeError\u001b[0m: 'tuple' object does not support item assignment"
     ]
    }
   ],
   "source": [
    "tuple1[2]=6"
   ]
  },
  {
   "cell_type": "markdown",
   "id": "31c2db2d",
   "metadata": {},
   "source": [
    "### typecasting of tuple"
   ]
  },
  {
   "cell_type": "code",
   "execution_count": 60,
   "id": "650223e5",
   "metadata": {},
   "outputs": [
    {
     "name": "stdout",
     "output_type": "stream",
     "text": [
      "[1, 4, 5]\n",
      "<class 'list'>\n"
     ]
    }
   ],
   "source": [
    "list3 = list(tuple1)\n",
    "print(list3)\n",
    "print(type(list3))"
   ]
  },
  {
   "cell_type": "code",
   "execution_count": 61,
   "id": "7a8d9722",
   "metadata": {},
   "outputs": [],
   "source": [
    "list3[2]=6"
   ]
  },
  {
   "cell_type": "code",
   "execution_count": 62,
   "id": "3d5c1c3b",
   "metadata": {},
   "outputs": [
    {
     "data": {
      "text/plain": [
       "[1, 4, 6]"
      ]
     },
     "execution_count": 62,
     "metadata": {},
     "output_type": "execute_result"
    }
   ],
   "source": [
    "list3"
   ]
  },
  {
   "cell_type": "code",
   "execution_count": 63,
   "id": "eedf8a78",
   "metadata": {},
   "outputs": [
    {
     "name": "stdout",
     "output_type": "stream",
     "text": [
      "(1, 4, 6)\n"
     ]
    }
   ],
   "source": [
    "tuple1=tuple(list3)\n",
    "print(tuple1)"
   ]
  },
  {
   "cell_type": "markdown",
   "id": "c343e523",
   "metadata": {},
   "source": [
    "#### adding elements to tuple"
   ]
  },
  {
   "cell_type": "code",
   "execution_count": 65,
   "id": "21e2e9c6",
   "metadata": {},
   "outputs": [
    {
     "data": {
      "text/plain": [
       "(1, 2, 3, 4)"
      ]
     },
     "execution_count": 65,
     "metadata": {},
     "output_type": "execute_result"
    }
   ],
   "source": [
    "(1,2,3)+(4,)"
   ]
  },
  {
   "cell_type": "code",
   "execution_count": 70,
   "id": "ba3a34b0",
   "metadata": {},
   "outputs": [
    {
     "data": {
      "text/plain": [
       "(1, 2, 3, 4, 5, 6)"
      ]
     },
     "execution_count": 70,
     "metadata": {},
     "output_type": "execute_result"
    }
   ],
   "source": [
    "tuple3= (1,2,3)\n",
    "tuple4= (4,5,6)\n",
    "tuple5=tuple3 + tuple4\n",
    "tuple5"
   ]
  },
  {
   "cell_type": "code",
   "execution_count": 71,
   "id": "6bcf35ad",
   "metadata": {},
   "outputs": [],
   "source": [
    "del tuple5"
   ]
  },
  {
   "cell_type": "code",
   "execution_count": 72,
   "id": "35374f66",
   "metadata": {},
   "outputs": [
    {
     "ename": "NameError",
     "evalue": "name 'tuple5' is not defined",
     "output_type": "error",
     "traceback": [
      "\u001b[1;31m---------------------------------------------------------------------------\u001b[0m",
      "\u001b[1;31mNameError\u001b[0m                                 Traceback (most recent call last)",
      "Cell \u001b[1;32mIn[72], line 1\u001b[0m\n\u001b[1;32m----> 1\u001b[0m tuple5\n",
      "\u001b[1;31mNameError\u001b[0m: name 'tuple5' is not defined"
     ]
    }
   ],
   "source": [
    "tuple5"
   ]
  },
  {
   "cell_type": "markdown",
   "id": "c8ec7e3a",
   "metadata": {},
   "source": [
    "# Set and its operation"
   ]
  },
  {
   "cell_type": "code",
   "execution_count": 73,
   "id": "1e8bfe06",
   "metadata": {},
   "outputs": [
    {
     "name": "stdout",
     "output_type": "stream",
     "text": [
      "{1, 2, 3, 4, 5, 6}\n",
      "<class 'set'>\n"
     ]
    }
   ],
   "source": [
    "set1={1,2,3,4,5,6}\n",
    "print(set1)\n",
    "print(type(set1))"
   ]
  },
  {
   "cell_type": "markdown",
   "id": "379f27d7",
   "metadata": {},
   "source": [
    "### insertion in Set"
   ]
  },
  {
   "cell_type": "code",
   "execution_count": 75,
   "id": "57b8c4c1",
   "metadata": {},
   "outputs": [
    {
     "data": {
      "text/plain": [
       "{1, 2, 3, 4, 5, 6, 7}"
      ]
     },
     "execution_count": 75,
     "metadata": {},
     "output_type": "execute_result"
    }
   ],
   "source": [
    "set1.add(7)\n",
    "set1"
   ]
  },
  {
   "cell_type": "markdown",
   "id": "4aa4089c",
   "metadata": {},
   "source": [
    "### union in set"
   ]
  },
  {
   "cell_type": "code",
   "execution_count": 76,
   "id": "42e90077",
   "metadata": {},
   "outputs": [
    {
     "data": {
      "text/plain": [
       "{1, 2, 3, 4, 5, 6, 7, 8, 9, 10, 11}"
      ]
     },
     "execution_count": 76,
     "metadata": {},
     "output_type": "execute_result"
    }
   ],
   "source": [
    "set2= {8,9,10,11}\n",
    "set1 | set2"
   ]
  },
  {
   "cell_type": "markdown",
   "id": "2925ce7f",
   "metadata": {},
   "source": [
    "### intersection in set"
   ]
  },
  {
   "cell_type": "code",
   "execution_count": 77,
   "id": "15ab8230",
   "metadata": {},
   "outputs": [
    {
     "data": {
      "text/plain": [
       "set()"
      ]
     },
     "execution_count": 77,
     "metadata": {},
     "output_type": "execute_result"
    }
   ],
   "source": [
    "set1 & set2"
   ]
  },
  {
   "cell_type": "markdown",
   "id": "afecc526",
   "metadata": {},
   "source": [
    "### difference in set"
   ]
  },
  {
   "cell_type": "code",
   "execution_count": 78,
   "id": "c57cc1f4",
   "metadata": {},
   "outputs": [
    {
     "data": {
      "text/plain": [
       "{1, 2, 3, 4, 5, 6, 7}"
      ]
     },
     "execution_count": 78,
     "metadata": {},
     "output_type": "execute_result"
    }
   ],
   "source": [
    "set1 - set2"
   ]
  },
  {
   "cell_type": "code",
   "execution_count": 79,
   "id": "3f96b393",
   "metadata": {},
   "outputs": [
    {
     "data": {
      "text/plain": [
       "{8, 9, 10, 11}"
      ]
     },
     "execution_count": 79,
     "metadata": {},
     "output_type": "execute_result"
    }
   ],
   "source": [
    "set2 - set1"
   ]
  },
  {
   "cell_type": "markdown",
   "id": "172fc44d",
   "metadata": {},
   "source": [
    "### clear in set"
   ]
  },
  {
   "cell_type": "code",
   "execution_count": 80,
   "id": "85890458",
   "metadata": {},
   "outputs": [],
   "source": [
    "set2.clear()"
   ]
  },
  {
   "cell_type": "code",
   "execution_count": 81,
   "id": "6327f4ad",
   "metadata": {},
   "outputs": [
    {
     "data": {
      "text/plain": [
       "set()"
      ]
     },
     "execution_count": 81,
     "metadata": {},
     "output_type": "execute_result"
    }
   ],
   "source": [
    "set2"
   ]
  },
  {
   "cell_type": "code",
   "execution_count": null,
   "id": "c9adc068",
   "metadata": {},
   "outputs": [],
   "source": []
  },
  {
   "cell_type": "code",
   "execution_count": null,
   "id": "aeb1a8f5",
   "metadata": {},
   "outputs": [],
   "source": []
  },
  {
   "cell_type": "markdown",
   "id": "a03caeb1",
   "metadata": {},
   "source": [
    "# Dictionary"
   ]
  },
  {
   "cell_type": "code",
   "execution_count": null,
   "id": "a3db675e",
   "metadata": {},
   "outputs": [],
   "source": []
  }
 ],
 "metadata": {
  "kernelspec": {
   "display_name": "Python 3 (ipykernel)",
   "language": "python",
   "name": "python3"
  },
  "language_info": {
   "codemirror_mode": {
    "name": "ipython",
    "version": 3
   },
   "file_extension": ".py",
   "mimetype": "text/x-python",
   "name": "python",
   "nbconvert_exporter": "python",
   "pygments_lexer": "ipython3",
   "version": "3.11.3"
  }
 },
 "nbformat": 4,
 "nbformat_minor": 5
}
