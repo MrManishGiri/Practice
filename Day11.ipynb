{
 "cells": [
  {
   "cell_type": "markdown",
   "id": "e720324b-3936-4303-96e4-9473ef7588d4",
   "metadata": {},
   "source": [
    "# Loops and List Comprehensions"
   ]
  },
  {
   "cell_type": "markdown",
   "id": "a57a674e-a391-4cd1-80dd-efa5ca2d5401",
   "metadata": {},
   "source": [
    "## Loops"
   ]
  },
  {
   "cell_type": "code",
   "execution_count": 2,
   "id": "bee1c05f-cb96-495d-a00b-cc51cb7ccd6f",
   "metadata": {},
   "outputs": [
    {
     "name": "stdout",
     "output_type": "stream",
     "text": [
      "['Adela', 'Fleda', 'Owen', 'May', 'Mona', 'Gilbert', 'Ford']\n"
     ]
    }
   ],
   "source": [
    "party_attendees = ['Adela', 'Fleda', 'Owen', 'May', 'Mona', 'Gilbert', 'Ford']\n",
    "print(party_attendees)"
   ]
  },
  {
   "cell_type": "code",
   "execution_count": 3,
   "id": "e4d6efc8-0703-4fe3-a99f-3d4a6e4b7f50",
   "metadata": {},
   "outputs": [
    {
     "name": "stdout",
     "output_type": "stream",
     "text": [
      "Adela Fleda Owen May Mona Gilbert Ford "
     ]
    }
   ],
   "source": [
    "party_attendees = ['Adela', 'Fleda', 'Owen', 'May', 'Mona', 'Gilbert', 'Ford']\n",
    "\n",
    "for name in party_attendees:\n",
    "    print(name, end=' ') # this will print all on the same line without quotes and commo."
   ]
  },
  {
   "cell_type": "markdown",
   "id": "62795695-28df-4254-a35e-9fac456613c0",
   "metadata": {},
   "source": [
    "."
   ]
  },
  {
   "cell_type": "markdown",
   "id": "f8ec132c-2176-499f-aa3b-4a577d1ad841",
   "metadata": {},
   "source": [
    "we can iterate over the elements of a tuple"
   ]
  },
  {
   "cell_type": "code",
   "execution_count": 1,
   "id": "26ae2ebf-8fed-49c4-8c5d-0f775cab47a9",
   "metadata": {},
   "outputs": [
    {
     "data": {
      "text/plain": [
       "1440"
      ]
     },
     "execution_count": 1,
     "metadata": {},
     "output_type": "execute_result"
    }
   ],
   "source": [
    "multiplicands = (2, 3, 3, 4, 4, 5)\n",
    "product = 1\n",
    "for mult in multiplicands:\n",
    "    product = product * mult\n",
    "product"
   ]
  },
  {
   "cell_type": "markdown",
   "id": "91a48187-1647-404e-8f8e-6a5b58ce0367",
   "metadata": {},
   "source": [
    "we can even loop through each character in a string:"
   ]
  },
  {
   "cell_type": "code",
   "execution_count": 2,
   "id": "e7f5d9d0-f5e2-491c-9d7a-46e2fef2cc22",
   "metadata": {},
   "outputs": [
    {
     "name": "stdout",
     "output_type": "stream",
     "text": [
      "HELLO"
     ]
    }
   ],
   "source": [
    "s = 'sometHing is the practicE of Loving Life Of yours'\n",
    "msg = ''\n",
    "#print all the uppercase letters in s, one at a time\n",
    "for char in s:\n",
    "    if char.isupper():\n",
    "        print(char, end='')"
   ]
  },
  {
   "cell_type": "code",
   "execution_count": 3,
   "id": "e02742cb-98b3-4fdf-980e-9ceafd54b363",
   "metadata": {},
   "outputs": [
    {
     "data": {
      "text/plain": [
       "str"
      ]
     },
     "execution_count": 3,
     "metadata": {},
     "output_type": "execute_result"
    }
   ],
   "source": [
    "type(s)"
   ]
  },
  {
   "cell_type": "markdown",
   "id": "e9c4798d-3ea0-4de1-a55b-fc6d7d75a256",
   "metadata": {},
   "source": [
    "### range()"
   ]
  },
  {
   "cell_type": "code",
   "execution_count": 4,
   "id": "ee7352b8-0261-46bd-8640-e407456f13e6",
   "metadata": {},
   "outputs": [
    {
     "name": "stdout",
     "output_type": "stream",
     "text": [
      "Doing important work 0\n",
      "Doing important work 1\n",
      "Doing important work 2\n",
      "Doing important work 3\n",
      "Doing important work 4\n"
     ]
    }
   ],
   "source": [
    "for i in range(5):\n",
    "    print(\"Doing important work\", i)\n",
    "    "
   ]
  },
  {
   "cell_type": "markdown",
   "id": "243cafe1-737e-451f-a5b1-7d50e245c999",
   "metadata": {},
   "source": [
    "# While loops"
   ]
  },
  {
   "cell_type": "markdown",
   "id": "b1577d57-707a-4517-9314-969e073a9c09",
   "metadata": {},
   "source": [
    "the other type of loop in python is a while loop, which iterates until some conditions is met:"
   ]
  },
  {
   "cell_type": "code",
   "execution_count": 5,
   "id": "3c494bc4-3a7a-47ef-a4d0-d557ada2188a",
   "metadata": {},
   "outputs": [
    {
     "name": "stdout",
     "output_type": "stream",
     "text": [
      "0 1 2 3 4 5 6 7 8 9 "
     ]
    }
   ],
   "source": [
    "i = 0\n",
    "while i < 10:\n",
    "    print(i, end=' ')\n",
    "    i +=1 # increasing value of i by 1"
   ]
  },
  {
   "cell_type": "markdown",
   "id": "b290921b-b13a-440d-8281-39e25657dc00",
   "metadata": {},
   "source": [
    "The argument of the while loop is evaluated as a boolean statement, and the loop is executed until the statement evaluates to False."
   ]
  },
  {
   "cell_type": "markdown",
   "id": "68dfc7e1-7198-4585-9102-f348589a4e12",
   "metadata": {},
   "source": [
    "# List Comprehensions"
   ]
  },
  {
   "cell_type": "markdown",
   "id": "7f4e958c-b6a4-415a-8447-de99f8719ace",
   "metadata": {},
   "source": [
    "List comprehensions are one of python's most beloved and unique features. the easiest way to understand them is probably to just look at a few examples:"
   ]
  },
  {
   "cell_type": "code",
   "execution_count": 6,
   "id": "17a664cf-14e9-4adf-bcc7-389cbac29923",
   "metadata": {},
   "outputs": [
    {
     "data": {
      "text/plain": [
       "[0, 1, 4, 9, 16, 25, 36, 49, 64, 81]"
      ]
     },
     "execution_count": 6,
     "metadata": {},
     "output_type": "execute_result"
    }
   ],
   "source": [
    "squares = [n**2 for n in range(10)]\n",
    "squares"
   ]
  },
  {
   "cell_type": "markdown",
   "id": "c865573c-8279-42d1-b218-7ab00db498bc",
   "metadata": {},
   "source": [
    "we can also add an if condition: "
   ]
  },
  {
   "cell_type": "code",
   "execution_count": 3,
   "id": "ff9d5d08-6137-45e7-92b0-e5f45035261e",
   "metadata": {},
   "outputs": [],
   "source": [
    "planets = ['Mercury', 'Venus', 'Earth', 'Mars', 'Jupiter', 'Saturn', 'Uranus', 'Neptune']"
   ]
  },
  {
   "cell_type": "code",
   "execution_count": 9,
   "id": "9a4c4805-3fcf-4bd1-8b26-71b5d9ea3006",
   "metadata": {},
   "outputs": [
    {
     "data": {
      "text/plain": [
       "['Venus', 'Earth', 'Mars']"
      ]
     },
     "execution_count": 9,
     "metadata": {},
     "output_type": "execute_result"
    }
   ],
   "source": [
    "short_planets = [planet for planet in planets if len(planet) < 6]\n",
    "short_planets"
   ]
  },
  {
   "cell_type": "markdown",
   "id": "856e6a61-5487-493a-8270-e252b8a5e666",
   "metadata": {},
   "source": [
    "Here's how we would do the same thing without a list comprehension:"
   ]
  },
  {
   "cell_type": "code",
   "execution_count": 1,
   "id": "abb0717d-5aec-44e7-b396-5b67b1b19dcd",
   "metadata": {},
   "outputs": [
    {
     "data": {
      "text/plain": [
       "[0, 1, 4, 9, 16, 25, 36, 49, 64, 81]"
      ]
     },
     "execution_count": 1,
     "metadata": {},
     "output_type": "execute_result"
    }
   ],
   "source": [
    "squares = []\n",
    "for n in range(10):\n",
    "    squares.append(n**2)\n",
    "squares"
   ]
  },
  {
   "cell_type": "markdown",
   "id": "2c293d03-32e1-4c8f-93dc-4d80fdfacb1f",
   "metadata": {},
   "source": [
    "### Here is an example of filtering with an if condition and applying some transformation to the loop variable:"
   ]
  },
  {
   "cell_type": "code",
   "execution_count": 4,
   "id": "96b76da1-9658-4942-ba31-42cd4ef9c79a",
   "metadata": {},
   "outputs": [
    {
     "data": {
      "text/plain": [
       "['VENUS!', 'EARTH!', 'MARS!']"
      ]
     },
     "execution_count": 4,
     "metadata": {},
     "output_type": "execute_result"
    }
   ],
   "source": [
    "# str.upper() returns an all-caps version of a string\n",
    "caps_short_planets = [planet.upper() + '!' for planet in planets if len(planet) < 6]\n",
    "caps_short_planets"
   ]
  },
  {
   "cell_type": "code",
   "execution_count": 5,
   "id": "efece3a5-da56-4360-9efa-442960056e3b",
   "metadata": {},
   "outputs": [],
   "source": [
    "# if we want to write it clearly we should write in 3 different lines so it would be easy to read."
   ]
  },
  {
   "cell_type": "markdown",
   "id": "c3fe34cf-91ff-4172-96ca-182352351a74",
   "metadata": {},
   "source": [
    "##### list comprehensions combined with functions like min, max, and sum can lead to impressive one line solutinos for problems that would otherwise require several lines of code."
   ]
  },
  {
   "cell_type": "code",
   "execution_count": 15,
   "id": "568454e0-68da-4784-88bf-4a9bc595f9c1",
   "metadata": {},
   "outputs": [
    {
     "name": "stdout",
     "output_type": "stream",
     "text": [
      "The number of negative numbers in the list is: 3\n"
     ]
    }
   ],
   "source": [
    "def count_negatives(nums):\n",
    "    \"\"\" Return the number of negative numbers in the given list.\n",
    "    >>> count_negatives([5, -1, -2, 0, 3])\n",
    "    2\n",
    "    \"\"\"\n",
    "    n_negative = 0\n",
    "    for num in nums:\n",
    "        if num < 0:\n",
    "           # n_negative = n_negative + 1\n",
    "            n_negative +=1\n",
    "    return n_negative\n",
    "\n",
    "test_list = [5, -1, -2, 0, -3]\n",
    "print(f\"The number of negative numbers in the list is: {count_negatives(test_list)}\")\n"
   ]
  },
  {
   "cell_type": "markdown",
   "id": "3a6d5050-4e46-425f-98f4-c2bae32d89fb",
   "metadata": {},
   "source": [
    "here's a solution using a list comprehension:"
   ]
  },
  {
   "cell_type": "code",
   "execution_count": 17,
   "id": "08e16d3e-16c5-4f78-b14e-17a3b2c90a25",
   "metadata": {},
   "outputs": [
    {
     "name": "stdout",
     "output_type": "stream",
     "text": [
      "The number of negative numbers in the list is: 3\n"
     ]
    }
   ],
   "source": [
    "def count_negative(nums):\n",
    "    return len([num for num in nums if num < 0])\n",
    "\n",
    "test_list = [5, -1, -2, 0, -3]\n",
    "print(f\"The number of negative numbers in the list is: {count_negatives(test_list)}\")"
   ]
  },
  {
   "cell_type": "markdown",
   "id": "94a9e20e-00c1-404c-9bc0-669393e8443f",
   "metadata": {},
   "source": [
    "this is third solution for the same problem"
   ]
  },
  {
   "cell_type": "code",
   "execution_count": 20,
   "id": "9595344d-a7fa-461f-aa01-8bf25b927e87",
   "metadata": {},
   "outputs": [
    {
     "name": "stdout",
     "output_type": "stream",
     "text": [
      "The number of negative numbers in the list is: 2\n"
     ]
    }
   ],
   "source": [
    "def count_negatives(nums):\n",
    "    return sum([num < 0  for num in nums])\n",
    "\n",
    "test_list = [5, -1, -2, 0, 3]\n",
    "print(f\"The number of negative numbers in the list is: {count_negatives(test_list)}\")"
   ]
  },
  {
   "cell_type": "markdown",
   "id": "67615082-2e12-430a-95d7-31aa652aa7af",
   "metadata": {},
   "source": [
    "# Practice"
   ]
  },
  {
   "cell_type": "markdown",
   "id": "bce52be1-2005-427e-953d-b3a36bada360",
   "metadata": {},
   "source": [
    "# 1.\n",
    "Trying to identify the bug and fix it."
   ]
  },
  {
   "cell_type": "code",
   "execution_count": 29,
   "id": "1ddb919c-00a1-40c1-a8c2-f47af631a648",
   "metadata": {},
   "outputs": [],
   "source": [
    "def has_lucky_number(nums):\n",
    "    \"\"\" Return whether the given list of numbers is lucky. A lucky list contains at least  one number divisible by 7.\n",
    "    \"\"\"\n",
    "    for num in nums:\n",
    "        print(\"Hello World!\")\n",
    "        if num % 7 ==0:\n",
    "            return True\n",
    "        else: \n",
    "            return False"
   ]
  },
  {
   "cell_type": "markdown",
   "id": "6b4478fc-5ba1-465e-9362-ed8f8185dca6",
   "metadata": {},
   "source": [
    "### In this problem, the question is asking we should at least have a number that is divisible by 7 there is no condition of false. it should be always true"
   ]
  },
  {
   "cell_type": "code",
   "execution_count": 27,
   "id": "498b6a4d-71f9-4f78-9560-d098a219f7c7",
   "metadata": {},
   "outputs": [
    {
     "name": "stdout",
     "output_type": "stream",
     "text": [
      " The number of div numbers in the list is: True\n"
     ]
    }
   ],
   "source": [
    "def has_lucky_number(nums):\n",
    "    \"\"\" Return whether the given list of numbers is lucky. A lucky list contains at least  one number divisible by 7.\n",
    "    \"\"\"\n",
    "    divisible = []\n",
    "    for num in nums:\n",
    "        if num % 7 ==0:\n",
    "            return True\n",
    "            # we've exhausted the list without finding a lucky number\n",
    "    return False\n",
    "\n",
    "\n",
    "test = [7,2,3,4]\n",
    "print(f\" The number of div numbers in the list is: {has_lucky_number(test)}\")"
   ]
  },
  {
   "cell_type": "markdown",
   "id": "0a4130aa-0fc1-4a8d-be17-1122926e0604",
   "metadata": {},
   "source": [
    "here is a one line version using a list comprehension with python's any function"
   ]
  },
  {
   "cell_type": "code",
   "execution_count": 28,
   "id": "c51d4769-3306-4ff9-96e2-275424f04722",
   "metadata": {},
   "outputs": [],
   "source": [
    "def has_lucky_number(nums):\n",
    "    return any([num % 7 == 0 for num in nums])"
   ]
  },
  {
   "cell_type": "markdown",
   "id": "01252db8-75d5-4db9-adcc-5bdfdf26c4e9",
   "metadata": {},
   "source": [
    "# 2"
   ]
  },
  {
   "cell_type": "code",
   "execution_count": 32,
   "id": "72494f65-955a-4e2e-b94a-8734a046c5c2",
   "metadata": {},
   "outputs": [
    {
     "name": "stdout",
     "output_type": "stream",
     "text": [
      "[False, False, False, False, True, True, True]\n"
     ]
    }
   ],
   "source": [
    "def elementwise_greater_than(L, thresh):\n",
    "    \"\"\"Return a list with the same length as L, where the value at index i is \n",
    "    True if L[i] is greater than thresh, and False otherwise.\n",
    "    \n",
    "    >>> elementwise_greater_than([1, 2, 3, 4], 2)\n",
    "    [False, False, True, True]\n",
    "    \"\"\"\n",
    "    return [num > thresh for num in L]\n",
    "    # alternate solution is  below\n",
    "\n",
    "    # res = []\n",
    "    # for ele in L:\n",
    "    #     res.append(ele > thresh)\n",
    "    # return res\n",
    "\n",
    "print(elementwise_greater_than([1,2,3,4,5,6,7], 4))"
   ]
  },
  {
   "cell_type": "markdown",
   "id": "89147489-4865-4226-9ac1-f9b123e90fda",
   "metadata": {},
   "source": [
    "# 3."
   ]
  },
  {
   "cell_type": "code",
   "execution_count": 49,
   "id": "3ece3903-3348-46f8-8278-3ce691082c8b",
   "metadata": {},
   "outputs": [
    {
     "name": "stdout",
     "output_type": "stream",
     "text": [
      "True\n",
      "False\n"
     ]
    }
   ],
   "source": [
    "def menu_is_boring(meals):\n",
    "    \"\"\"Given a list of meals served over some period of time, return True if the\n",
    "    same meal has ever been served two days in a row, and False otherwise.\n",
    "    \"\"\"\n",
    "    for i in range(1, len(meals)):\n",
    "        if meals[i] == meals[i-1]:\n",
    "            return True\n",
    "    return False\n",
    "# Test the function with some examples\n",
    "meals1 = [\"pasta\", \"burger\", \"pasta\", \"pasta\", \"salad\"]\n",
    "meals2 = [\"pasta\", \"burger\", \"salad\", \"soup\", \"pasta\"]\n",
    "print(menu_is_boring(meals1))  # Should return True (pasta served two days in a row)\n",
    "print(menu_is_boring(meals2))  # Should return False (no consecutive meals)"
   ]
  },
  {
   "cell_type": "markdown",
   "id": "948fe229-9348-43c6-9fdf-0761f5965aba",
   "metadata": {},
   "source": [
    "# 4 "
   ]
  },
  {
   "cell_type": "code",
   "execution_count": 67,
   "id": "e73a82ff-efba-42d3-bbe3-e76a57b8cff9",
   "metadata": {},
   "outputs": [
    {
     "name": "stdout",
     "output_type": "stream",
     "text": [
      "Estimated average payout per play: $-1.85\n"
     ]
    }
   ],
   "source": [
    "import random\n",
    "\n",
    "def play_slot_machine():\n",
    "    # This is a mock function to simulate the slot machine.\n",
    "    # It returns random winnings. Usually it returns 0, but sometimes a big payday.\n",
    "    return random.choices([0, 50, 100, 500, 1000], [0.99, 0.005, 0.003, 0.0015, 0.0005])[0]\n",
    "\n",
    "def estimate_average_slot_machine_payout(n_simulations):\n",
    "    \"\"\"\n",
    "    Estimate the average value per play of the slot machine using Monte Carlo method.\n",
    "\n",
    "    Parameters:\n",
    "    n_simulations (int): The number of times to simulate playing the slot machine.\n",
    "\n",
    "    Returns:\n",
    "    float: The estimated average payout per play.\n",
    "    \"\"\"\n",
    "    total_winnings = 0\n",
    "    \n",
    "    for _ in range(n_simulations): # in this line of code '_' after for is used when variable is not used inside the code itself. so, we ignore it. we can also write 'i' as well.\n",
    "        total_winnings -= play_slot_machine()\n",
    "    \n",
    "    average_payout = total_winnings / n_simulations\n",
    "    \n",
    "    return average_payout\n",
    "\n",
    "# Example usage\n",
    "n_simulations = 100000  # Number of simulations\n",
    "average_payout = estimate_average_slot_machine_payout(n_simulations)\n",
    "print(f\"Estimated average payout per play: ${average_payout:.2f}\")\n"
   ]
  },
  {
   "cell_type": "markdown",
   "id": "c6a34b1d-e5f1-4e61-9ec2-52fddd903087",
   "metadata": {},
   "source": [
    "## Actual answer using list comprehensions"
   ]
  },
  {
   "cell_type": "code",
   "execution_count": 73,
   "id": "05887bf6-ef48-4cc4-8294-cf9fb34326cb",
   "metadata": {},
   "outputs": [
    {
     "data": {
      "text/plain": [
       "0.615"
      ]
     },
     "execution_count": 73,
     "metadata": {},
     "output_type": "execute_result"
    }
   ],
   "source": [
    "def estimate_average_slot_payout(n_runs):\n",
    "    # play slot machine n_runs times, calculate payout of each\n",
    "    payouts = [play_slot_machine() - 1 for i in range(n_runs)]\n",
    "    # calculate the average value\n",
    "    avg_payout = sum(payouts) / n_runs\n",
    "    return avg_payout\n",
    "\n",
    "estimate_average_slot_payout(10000)"
   ]
  }
 ],
 "metadata": {
  "kernelspec": {
   "display_name": "Python 3 (ipykernel)",
   "language": "python",
   "name": "python3"
  },
  "language_info": {
   "codemirror_mode": {
    "name": "ipython",
    "version": 3
   },
   "file_extension": ".py",
   "mimetype": "text/x-python",
   "name": "python",
   "nbconvert_exporter": "python",
   "pygments_lexer": "ipython3",
   "version": "3.12.4"
  }
 },
 "nbformat": 4,
 "nbformat_minor": 5
}
