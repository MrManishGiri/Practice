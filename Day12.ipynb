{
 "cells": [
  {
   "cell_type": "markdown",
   "id": "00d4711c-d7fa-41ed-940c-f91dd9aeb877",
   "metadata": {},
   "source": [
    "\n",
    "# String and Dictionaries"
   ]
  },
  {
   "cell_type": "markdown",
   "id": "bcc06efd-9d87-4ed6-ace7-1c787635c69c",
   "metadata": {},
   "source": [
    "python langauge really shines in the manipulation of strings. Now, in this session i will cover python's built in string methods and formatting operations."
   ]
  },
  {
   "cell_type": "markdown",
   "id": "69d70df8-ba84-4291-8377-41dd2636d53e",
   "metadata": {},
   "source": [
    "## String Syntax\n",
    "strings in python can be defined using either single or double quotations. They are functionally equivalent."
   ]
  },
  {
   "cell_type": "code",
   "execution_count": 2,
   "id": "d6dcedbd-1c28-4a5a-998b-cd34211247c2",
   "metadata": {},
   "outputs": [
    {
     "data": {
      "text/plain": [
       "True"
      ]
     },
     "execution_count": 2,
     "metadata": {},
     "output_type": "execute_result"
    }
   ],
   "source": [
    "x = 'Pluto is a planet'\n",
    "y = \"Pluto is a planet\"\n",
    "x == y"
   ]
  },
  {
   "cell_type": "markdown",
   "id": "ac4970ad-0af2-4254-b457-08487b7849f3",
   "metadata": {},
   "source": [
    "Double quotes are convenient if our string contains a single quote character.\n",
    "similarly, we can create a string that contains double-quotes if we wrap it in single quotes"
   ]
  },
  {
   "cell_type": "code",
   "execution_count": 3,
   "id": "d433cb92-d887-480e-b351-4b6fb4fc0eea",
   "metadata": {},
   "outputs": [
    {
     "name": "stdout",
     "output_type": "stream",
     "text": [
      "pluto's a planet!\n",
      "My dog is named \"Pluto\"\n"
     ]
    }
   ],
   "source": [
    "print(\"pluto's a planet!\")\n",
    "print('My dog is named \"Pluto\"')"
   ]
  },
  {
   "cell_type": "code",
   "execution_count": 4,
   "id": "686c161a-3dad-4fb5-8a99-1fe874076232",
   "metadata": {},
   "outputs": [
    {
     "ename": "SyntaxError",
     "evalue": "unterminated string literal (detected at line 2) (1145595486.py, line 2)",
     "output_type": "error",
     "traceback": [
      "\u001b[1;36m  Cell \u001b[1;32mIn[4], line 2\u001b[1;36m\u001b[0m\n\u001b[1;33m    'Pluto's a planet!'\u001b[0m\n\u001b[1;37m                      ^\u001b[0m\n\u001b[1;31mSyntaxError\u001b[0m\u001b[1;31m:\u001b[0m unterminated string literal (detected at line 2)\n"
     ]
    }
   ],
   "source": [
    "# if we put single quote character inside a single quoted string. python gets confused.\n",
    "'Pluto's a planet!'"
   ]
  },
  {
   "cell_type": "code",
   "execution_count": 5,
   "id": "724bb8f5-c291-4833-82db-d82023a132fe",
   "metadata": {},
   "outputs": [
    {
     "data": {
      "text/plain": [
       "\"pluto's a Planet!\""
      ]
     },
     "execution_count": 5,
     "metadata": {},
     "output_type": "execute_result"
    }
   ],
   "source": [
    "# we can fix this by \"escaping\" the single quote with a backslash.\n",
    "'pluto\\'s a Planet!'"
   ]
  },
  {
   "cell_type": "markdown",
   "id": "b829fe41-ee65-40f5-97cc-85731c846426",
   "metadata": {},
   "source": [
    "### some important uses of the backslash character"
   ]
  },
  {
   "cell_type": "markdown",
   "id": "46c6d91d-cbe6-4dd9-b6eb-3ad00b9da248",
   "metadata": {},
   "source": [
    "|what you type| what you get | example | print(example) |\n",
    "|-------------|--------------|---------|----------------|\n",
    "| \\' | ' | 'what\\'s up?' | what's up? |\n",
    "\n",
    " this is how we can create a table in the markdown of jupyter notebook"
   ]
  },
  {
   "cell_type": "markdown",
   "id": "5c8fe6df-3ddd-4b1a-93b4-65aa005d14d1",
   "metadata": {},
   "source": [
    "| What you type | What you get | Example                 | Output               |\n",
    "|---------------|--------------|-------------------------|----------------------|\n",
    "| `\\'`          | `'`          | `'What\\'s up?'`         | `What's up?`         |\n",
    "| `\\\"`          | `\"`          | `\"That's \\\"cool\\\"\"`     | `That's \"cool\"`      |\n",
    "| `\\\\`          | `\\`          | `\"Look, a mountain: /\\\\\\\\\"` | `Look, a mountain: /\\\\` |\n",
    "| `\\n`          | *newline*    | `\"1\\n2 3\"`              | `1` <br> `2 3`       |\n"
   ]
  },
  {
   "cell_type": "code",
   "execution_count": 6,
   "id": "5404e4b4-a2c3-494c-9fff-1d753d64498e",
   "metadata": {},
   "outputs": [
    {
     "name": "stdout",
     "output_type": "stream",
     "text": [
      "hello\n",
      " world\n"
     ]
    }
   ],
   "source": [
    "# let's use newline character and see how it works\n",
    "\n",
    "hello = \"hello\\n world\"\n",
    "print(hello)"
   ]
  },
  {
   "cell_type": "code",
   "execution_count": 10,
   "id": "b684bb68-c9d9-4798-8fcf-c38f1a2fb94c",
   "metadata": {},
   "outputs": [
    {
     "name": "stdout",
     "output_type": "stream",
     "text": [
      "hello\n",
      "world\n"
     ]
    },
    {
     "data": {
      "text/plain": [
       "False"
      ]
     },
     "execution_count": 10,
     "metadata": {},
     "output_type": "execute_result"
    }
   ],
   "source": [
    "triplequoted_hello = \"\"\"hello\n",
    "world\"\"\"\n",
    "print(triplequoted_hello)\n",
    "triplequoted_hello == hello\n",
    "# it gives output False because in above hello we have a space after \\n. so they are different\n"
   ]
  },
  {
   "cell_type": "markdown",
   "id": "e64c0f24-98fb-423c-8fb0-fdcbfe2de691",
   "metadata": {},
   "source": [
    "The print() function automatically adds a newline character unless we specify a value for the keyword argument 'end' other than the default value of '\\n'"
   ]
  },
  {
   "cell_type": "code",
   "execution_count": 11,
   "id": "9bfedf63-9416-4677-982a-5b7a52995fba",
   "metadata": {},
   "outputs": [
    {
     "name": "stdout",
     "output_type": "stream",
     "text": [
      "hello\n",
      "world\n",
      "helloworld"
     ]
    }
   ],
   "source": [
    "print(\"hello\")\n",
    "print(\"world\")\n",
    "print(\"hello\", end ='')\n",
    "print(\"world\", end='')"
   ]
  },
  {
   "cell_type": "markdown",
   "id": "e6ddb43a-6ddc-40bb-9d5a-5cb7e51c4bbb",
   "metadata": {},
   "source": [
    "# Strings are sequences"
   ]
  },
  {
   "cell_type": "code",
   "execution_count": 12,
   "id": "9f1d6fb8-4409-4755-954e-214e72f47cef",
   "metadata": {},
   "outputs": [
    {
     "data": {
      "text/plain": [
       "'P'"
      ]
     },
     "execution_count": 12,
     "metadata": {},
     "output_type": "execute_result"
    }
   ],
   "source": [
    "#Indexing\n",
    "planet = 'Pluto'\n",
    "planet[0]"
   ]
  },
  {
   "cell_type": "code",
   "execution_count": 13,
   "id": "ff978b7b-2de5-4c42-8f7f-715e52fd8018",
   "metadata": {},
   "outputs": [
    {
     "data": {
      "text/plain": [
       "'uto'"
      ]
     },
     "execution_count": 13,
     "metadata": {},
     "output_type": "execute_result"
    }
   ],
   "source": [
    "# Slicing\n",
    "planet[-3::]"
   ]
  },
  {
   "cell_type": "code",
   "execution_count": 14,
   "id": "bfda6af6-f748-4656-9e56-8398362be712",
   "metadata": {},
   "outputs": [
    {
     "data": {
      "text/plain": [
       "5"
      ]
     },
     "execution_count": 14,
     "metadata": {},
     "output_type": "execute_result"
    }
   ],
   "source": [
    "# How long is String\n",
    "len(planet)"
   ]
  },
  {
   "cell_type": "code",
   "execution_count": 15,
   "id": "bd2b63bb-9621-4a50-81ff-16762df42c37",
   "metadata": {},
   "outputs": [
    {
     "data": {
      "text/plain": [
       "['P!', 'l!', 'u!', 't!', 'o!']"
      ]
     },
     "execution_count": 15,
     "metadata": {},
     "output_type": "execute_result"
    }
   ],
   "source": [
    "# we can even loop over them\n",
    "[ char +'!' for char in planet]"
   ]
  },
  {
   "cell_type": "markdown",
   "id": "0cea9e1e-0d9b-4a62-bb9f-163821a1a5e2",
   "metadata": {},
   "source": [
    "#### String and lists are different in some cases. Like String is immutable. we can't modify them."
   ]
  },
  {
   "cell_type": "code",
   "execution_count": 16,
   "id": "69d17bf4-5233-4869-b524-7eb78d7641ed",
   "metadata": {},
   "outputs": [
    {
     "ename": "TypeError",
     "evalue": "'str' object does not support item assignment",
     "output_type": "error",
     "traceback": [
      "\u001b[1;31m---------------------------------------------------------------------------\u001b[0m",
      "\u001b[1;31mTypeError\u001b[0m                                 Traceback (most recent call last)",
      "Cell \u001b[1;32mIn[16], line 1\u001b[0m\n\u001b[1;32m----> 1\u001b[0m \u001b[43mplanet\u001b[49m\u001b[43m[\u001b[49m\u001b[38;5;241;43m0\u001b[39;49m\u001b[43m]\u001b[49m \u001b[38;5;241m=\u001b[39m \u001b[38;5;124m'\u001b[39m\u001b[38;5;124mB\u001b[39m\u001b[38;5;124m'\u001b[39m\n",
      "\u001b[1;31mTypeError\u001b[0m: 'str' object does not support item assignment"
     ]
    }
   ],
   "source": [
    "planet[0] = 'B'"
   ]
  },
  {
   "cell_type": "markdown",
   "id": "af00fb67-9c38-4d59-891e-ec622d9d8b5f",
   "metadata": {},
   "source": [
    "# String Methods"
   ]
  },
  {
   "cell_type": "markdown",
   "id": "ccfc6bf9-937b-406d-9537-ee1c090531a5",
   "metadata": {},
   "source": [
    "Like list, the type str has lots of very useful methods."
   ]
  },
  {
   "cell_type": "code",
   "execution_count": 17,
   "id": "5e0d6940-2ea6-4ab3-b719-56d063737381",
   "metadata": {},
   "outputs": [
    {
     "data": {
      "text/plain": [
       "'PLUTO IS A PLANET!'"
      ]
     },
     "execution_count": 17,
     "metadata": {},
     "output_type": "execute_result"
    }
   ],
   "source": [
    "# ALL CAPS\n",
    "claim = 'Pluto is a planet!'\n",
    "claim.upper()"
   ]
  },
  {
   "cell_type": "code",
   "execution_count": 18,
   "id": "f5642f49-6bf3-4654-8ae9-efc8f78bacee",
   "metadata": {},
   "outputs": [
    {
     "data": {
      "text/plain": [
       "'pluto is a planet!'"
      ]
     },
     "execution_count": 18,
     "metadata": {},
     "output_type": "execute_result"
    }
   ],
   "source": [
    "#all lower\n",
    "claim.lower()"
   ]
  },
  {
   "cell_type": "code",
   "execution_count": 19,
   "id": "22d6c310-b4a8-4c02-a894-b558540d9663",
   "metadata": {},
   "outputs": [
    {
     "data": {
      "text/plain": [
       "11"
      ]
     },
     "execution_count": 19,
     "metadata": {},
     "output_type": "execute_result"
    }
   ],
   "source": [
    "# Searching for the first index of a substring\n",
    "claim.index('plan')"
   ]
  },
  {
   "cell_type": "code",
   "execution_count": 20,
   "id": "19fa4cee-8542-434d-934c-eb5fcca7b679",
   "metadata": {},
   "outputs": [
    {
     "data": {
      "text/plain": [
       "True"
      ]
     },
     "execution_count": 20,
     "metadata": {},
     "output_type": "execute_result"
    }
   ],
   "source": [
    "claim.startswith(planet)"
   ]
  },
  {
   "cell_type": "code",
   "execution_count": 25,
   "id": "04cb7c7c-280f-4a19-8213-43353771d739",
   "metadata": {},
   "outputs": [
    {
     "data": {
      "text/plain": [
       "0"
      ]
     },
     "execution_count": 25,
     "metadata": {},
     "output_type": "execute_result"
    }
   ],
   "source": [
    "claim.index('Pluto')"
   ]
  },
  {
   "cell_type": "code",
   "execution_count": 27,
   "id": "c22ba908-788a-4cce-a402-a073294a8cb7",
   "metadata": {},
   "outputs": [
    {
     "ename": "NameError",
     "evalue": "name 'Pluto' is not defined",
     "output_type": "error",
     "traceback": [
      "\u001b[1;31m---------------------------------------------------------------------------\u001b[0m",
      "\u001b[1;31mNameError\u001b[0m                                 Traceback (most recent call last)",
      "Cell \u001b[1;32mIn[27], line 1\u001b[0m\n\u001b[1;32m----> 1\u001b[0m claim\u001b[38;5;241m.\u001b[39mstartswith(\u001b[43mPluto\u001b[49m)\n",
      "\u001b[1;31mNameError\u001b[0m: name 'Pluto' is not defined"
     ]
    }
   ],
   "source": [
    "claim.startswith(Pluto)"
   ]
  },
  {
   "cell_type": "code",
   "execution_count": 28,
   "id": "32dd8ca0-b3aa-4b55-8412-d3fae0213f5b",
   "metadata": {},
   "outputs": [
    {
     "data": {
      "text/plain": [
       "False"
      ]
     },
     "execution_count": 28,
     "metadata": {},
     "output_type": "execute_result"
    }
   ],
   "source": [
    "# false because of missing exclamation mark\n",
    "claim.endswith('planet')"
   ]
  },
  {
   "cell_type": "markdown",
   "id": "4794a223-069f-4431-9d36-68d73863899e",
   "metadata": {},
   "source": [
    "## Going between strings and lists: `.split()` and `.join()`"
   ]
  },
  {
   "cell_type": "markdown",
   "id": "da4d8e98-dbc8-4968-bb23-dee459fb8b2e",
   "metadata": {},
   "source": [
    "####  str.split  \n",
    "turns a string into a list of smaller strings, breaking on whitespace by default. This is super useful for taking you from one big string \n",
    "\n",
    "to a list of words.\n",
    "\n"
   ]
  },
  {
   "cell_type": "code",
   "execution_count": 29,
   "id": "a4d91adc-2407-4eb4-928c-d32bb92f9e7c",
   "metadata": {},
   "outputs": [
    {
     "data": {
      "text/plain": [
       "['Pluto', 'is', 'a', 'planet!']"
      ]
     },
     "execution_count": 29,
     "metadata": {},
     "output_type": "execute_result"
    }
   ],
   "source": [
    "words = claim.split()\n",
    "words"
   ]
  },
  {
   "cell_type": "markdown",
   "id": "61b45ed2-b27e-458b-b7b0-6f3e0d85a454",
   "metadata": {},
   "source": [
    "_If we want to split on something other than whitespace:_"
   ]
  },
  {
   "cell_type": "code",
   "execution_count": 36,
   "id": "a664e21d-c2d5-4daf-9e0f-b33a0df01d0c",
   "metadata": {},
   "outputs": [],
   "source": [
    "datestr = '2059-02-11'\n",
    "year, month, day = datestr.split('-')\n",
    "# we are specifying the datestr by splitting them using '-' and year,month and day serially."
   ]
  },
  {
   "cell_type": "markdown",
   "id": "5997b7ce-5407-4483-99ec-a9199542fda2",
   "metadata": {},
   "source": [
    "*`str.join()` takes us in the other direction, sewing a list of strings up into one long string, using the string it was called on as a separator._*"
   ]
  },
  {
   "cell_type": "code",
   "execution_count": 37,
   "id": "93b81e44-98a7-47bc-ba81-e76c19c524f1",
   "metadata": {},
   "outputs": [
    {
     "data": {
      "text/plain": [
       "'02/11/2059'"
      ]
     },
     "execution_count": 37,
     "metadata": {},
     "output_type": "execute_result"
    }
   ],
   "source": [
    "'/'.join([month, day, year])"
   ]
  },
  {
   "cell_type": "code",
   "execution_count": 39,
   "id": "fb9e664d-aeaf-46de-8195-043bf2bbf109",
   "metadata": {},
   "outputs": [
    {
     "data": {
      "text/plain": [
       "'PLUTO 🤔 IS 🤔 A 🤔 PLANET!'"
      ]
     },
     "execution_count": 39,
     "metadata": {},
     "output_type": "execute_result"
    }
   ],
   "source": [
    "# we can put unicode characters right in our string literals \n",
    "' 🤔 '.join([word.upper() for word in words])"
   ]
  },
  {
   "cell_type": "markdown",
   "id": "17f2c73e-49b1-4291-a395-f5efc4580156",
   "metadata": {},
   "source": [
    "<font size =3>**Building strings** with .format()\\\n",
    "python lets us concatenate srings with the `+` operator. </font>"
   ]
  },
  {
   "cell_type": "code",
   "execution_count": 41,
   "id": "35345dd8-fe24-4ce5-9431-c9707bcb5b22",
   "metadata": {},
   "outputs": [
    {
     "data": {
      "text/plain": [
       "'Pluto, we miss you.'"
      ]
     },
     "execution_count": 41,
     "metadata": {},
     "output_type": "execute_result"
    }
   ],
   "source": [
    "planet + ', we miss you.'\n",
    "# while creating claim we already specify first string as pluto to planet"
   ]
  },
  {
   "cell_type": "markdown",
   "id": "727ce605-b4ba-406d-a4f2-51717e5e382d",
   "metadata": {},
   "source": [
    "<font size=\"3\">If we want to throw in any non-string objects, we have to be careful to call str() on them first.</font>"
   ]
  },
  {
   "cell_type": "code",
   "execution_count": 42,
   "id": "ef6c57f5-91d6-454b-86ec-0759044f7a5e",
   "metadata": {},
   "outputs": [
    {
     "ename": "TypeError",
     "evalue": "can only concatenate str (not \"int\") to str",
     "output_type": "error",
     "traceback": [
      "\u001b[1;31m---------------------------------------------------------------------------\u001b[0m",
      "\u001b[1;31mTypeError\u001b[0m                                 Traceback (most recent call last)",
      "Cell \u001b[1;32mIn[42], line 2\u001b[0m\n\u001b[0;32m      1\u001b[0m position \u001b[38;5;241m=\u001b[39m \u001b[38;5;241m9\u001b[39m\n\u001b[1;32m----> 2\u001b[0m \u001b[43mplanet\u001b[49m\u001b[43m \u001b[49m\u001b[38;5;241;43m+\u001b[39;49m\u001b[43m \u001b[49m\u001b[38;5;124;43m\"\u001b[39;49m\u001b[38;5;124;43m, you\u001b[39;49m\u001b[38;5;124;43m'\u001b[39;49m\u001b[38;5;124;43mll always be the \u001b[39;49m\u001b[38;5;124;43m\"\u001b[39;49m\u001b[43m \u001b[49m\u001b[38;5;241;43m+\u001b[39;49m\u001b[43m \u001b[49m\u001b[43mposition\u001b[49m \u001b[38;5;241m+\u001b[39m \u001b[38;5;124m\"\u001b[39m\u001b[38;5;124mth planet to me.\u001b[39m\u001b[38;5;124m\"\u001b[39m\n",
      "\u001b[1;31mTypeError\u001b[0m: can only concatenate str (not \"int\") to str"
     ]
    }
   ],
   "source": [
    "position = 9\n",
    "planet + \", you'll always be the \" + position + \"th planet to me.\""
   ]
  },
  {
   "cell_type": "code",
   "execution_count": 43,
   "id": "1a671993-7dc7-464a-a64b-c06f8f6aa1db",
   "metadata": {},
   "outputs": [
    {
     "data": {
      "text/plain": [
       "\"Pluto, you'll always be the 9th planet to me.\""
      ]
     },
     "execution_count": 43,
     "metadata": {},
     "output_type": "execute_result"
    }
   ],
   "source": [
    "planet + \", you'll always be the \" + str(position) + \"th planet to me.\""
   ]
  },
  {
   "cell_type": "markdown",
   "id": "3676d809-88ef-4ba1-83ed-9c5488b84a82",
   "metadata": {},
   "source": [
    "<font size=\"3\"> This is getting hard to read and annoying to type. `str.format()` to the rescue.</font>"
   ]
  },
  {
   "cell_type": "code",
   "execution_count": 44,
   "id": "28d27a3c-e746-4940-bfe4-7165d77e73d9",
   "metadata": {},
   "outputs": [
    {
     "data": {
      "text/plain": [
       "\"Pluto, you'll always be the 9th planet to me.\""
      ]
     },
     "execution_count": 44,
     "metadata": {},
     "output_type": "execute_result"
    }
   ],
   "source": [
    "\"{}, you'll always be the {}th planet to me.\".format(planet, position)"
   ]
  },
  {
   "cell_type": "markdown",
   "id": "360d4ac7-87f2-4e02-be6f-bd405e0ee6e9",
   "metadata": {},
   "source": [
    "<font size=\"3\"> We can do alot more than this. Here it is: </font>"
   ]
  },
  {
   "cell_type": "code",
   "execution_count": 45,
   "id": "d101e534-9db3-4dda-99c8-8a2dd068e4a6",
   "metadata": {},
   "outputs": [
    {
     "data": {
      "text/plain": [
       "\"Pluto weighs about 1.3e+22 kilograms (0.218% of Earth's mass). It is home to 52,910,390 plutonians.\""
      ]
     },
     "execution_count": 45,
     "metadata": {},
     "output_type": "execute_result"
    }
   ],
   "source": [
    "pluto_mass = 1.303 * 10**22\n",
    "earth_mass = 5.9722 * 10**24\n",
    "population = 52910390\n",
    "\n",
    "\"{} weighs about {:.2} kilograms ({:.3%} of Earth's mass). It is home to {:,} plutonians.\".format(\n",
    "    planet, pluto_mass, pluto_mass / earth_mass, population,\n",
    ")"
   ]
  },
  {
   "cell_type": "code",
   "execution_count": 46,
   "id": "d756feed-3af2-41bc-a21c-e2a3938a6d30",
   "metadata": {},
   "outputs": [
    {
     "name": "stdout",
     "output_type": "stream",
     "text": [
      "Pluto's a planet.\n",
      "No, it's a dwarf planet.\n",
      "planet!\n",
      "dwarf planet!\n"
     ]
    }
   ],
   "source": [
    "# Referring to format() arguments by inde, starting from 0\n",
    "s = \"\"\"Pluto's a {0}.\n",
    "No, it's a {1}.\n",
    "{0}!\n",
    "{1}!\"\"\".format('planet','dwarf planet')\n",
    "print(s)"
   ]
  },
  {
   "cell_type": "markdown",
   "id": "b89d43f3-3852-49ec-a78f-7796ac9e65cb",
   "metadata": {},
   "source": [
    "# Dictionaries"
   ]
  },
  {
   "cell_type": "markdown",
   "id": "dcfe8ac3-878b-40bf-b746-a3856be15321",
   "metadata": {},
   "source": [
    "Dictionaries are a built-in python data structures for mapping kays to values."
   ]
  },
  {
   "cell_type": "code",
   "execution_count": 3,
   "id": "eb06a69d-963f-4384-b2f9-3bfa4d9ec4ac",
   "metadata": {},
   "outputs": [],
   "source": [
    "numbers = {'one':1, 'two':2, 'three':3}"
   ]
  },
  {
   "cell_type": "markdown",
   "id": "17cf3dba-5825-4424-b5f5-21f5eeb03148",
   "metadata": {},
   "source": [
    "<font size=\"3\"> values are accessed via square bracket syntax similar to indexing into lists and strings.</font>"
   ]
  },
  {
   "cell_type": "markdown",
   "id": "a0be1c1c-2d06-4a3b-9483-cb79d7e9f6a9",
   "metadata": {},
   "source": [
    "we can use below syntax to add new pair of key and value:"
   ]
  },
  {
   "cell_type": "code",
   "execution_count": 4,
   "id": "f3e44504-c600-448c-a64b-4058cfe3467a",
   "metadata": {},
   "outputs": [],
   "source": [
    "numbers['eleven']= 11"
   ]
  },
  {
   "cell_type": "code",
   "execution_count": 5,
   "id": "6a538a21-b3b0-489a-99d0-6b8d3ef5f24d",
   "metadata": {},
   "outputs": [
    {
     "data": {
      "text/plain": [
       "{'one': 1, 'two': 2, 'three': 3, 'eleven': 11}"
      ]
     },
     "execution_count": 5,
     "metadata": {},
     "output_type": "execute_result"
    }
   ],
   "source": [
    "numbers"
   ]
  },
  {
   "cell_type": "markdown",
   "id": "afe3e679-8635-42aa-ba76-c4d087455b34",
   "metadata": {},
   "source": [
    "we can access via square bracket syntax similar to indexing into lists and strings."
   ]
  },
  {
   "cell_type": "code",
   "execution_count": 6,
   "id": "a55097a8-9523-4581-a14c-5d8aa68a6878",
   "metadata": {},
   "outputs": [
    {
     "data": {
      "text/plain": [
       "1"
      ]
     },
     "execution_count": 6,
     "metadata": {},
     "output_type": "execute_result"
    }
   ],
   "source": [
    "numbers['one']"
   ]
  },
  {
   "cell_type": "markdown",
   "id": "c83652fe-67f4-420c-8e36-fab2ad0de553",
   "metadata": {},
   "source": [
    "Or to change the value associated with an existing key"
   ]
  },
  {
   "cell_type": "code",
   "execution_count": 7,
   "id": "63b22df0-d436-4c4a-9981-2a2c0a2dc45c",
   "metadata": {},
   "outputs": [],
   "source": [
    "numbers['one']=['pluto']"
   ]
  },
  {
   "cell_type": "code",
   "execution_count": 8,
   "id": "9e2b6c01-3081-41b5-9b11-43af49a2c539",
   "metadata": {},
   "outputs": [
    {
     "data": {
      "text/plain": [
       "{'one': ['pluto'], 'two': 2, 'three': 3, 'eleven': 11}"
      ]
     },
     "execution_count": 8,
     "metadata": {},
     "output_type": "execute_result"
    }
   ],
   "source": [
    "numbers"
   ]
  },
  {
   "cell_type": "markdown",
   "id": "612859ff-e070-4cf4-b507-f9e548eec73d",
   "metadata": {},
   "source": [
    "_Python has dictionary comprehensions with a syntax similar to the list comprehensions_"
   ]
  },
  {
   "cell_type": "code",
   "execution_count": 9,
   "id": "85251e9a-40cf-4d4a-9edd-17ffd3b14e6b",
   "metadata": {},
   "outputs": [
    {
     "data": {
      "text/plain": [
       "{'Mercury': 'M',\n",
       " 'Venus': 'V',\n",
       " 'Earth': 'E',\n",
       " 'Mars': 'M',\n",
       " 'Jupiter': 'J',\n",
       " 'Saturn': 'S',\n",
       " 'Uranus': 'U',\n",
       " 'Neptune': 'N'}"
      ]
     },
     "execution_count": 9,
     "metadata": {},
     "output_type": "execute_result"
    }
   ],
   "source": [
    "planets = ['Mercury', 'Venus', 'Earth', 'Mars', 'Jupiter', 'Saturn', 'Uranus', 'Neptune']\n",
    "planet_to_initial = {planet: planet[0] for planet in planets}\n",
    "planet_to_initial"
   ]
  },
  {
   "cell_type": "markdown",
   "id": "781f3e8a-df9e-4243-bbb5-8cb6f73e929e",
   "metadata": {},
   "source": [
    "<font size=\"3\">The `in` operator tells us whether something is a key in the dictionery</font>"
   ]
  },
  {
   "cell_type": "code",
   "execution_count": 10,
   "id": "c6d754ad-6278-4574-9347-968321e69db0",
   "metadata": {},
   "outputs": [
    {
     "data": {
      "text/plain": [
       "True"
      ]
     },
     "execution_count": 10,
     "metadata": {},
     "output_type": "execute_result"
    }
   ],
   "source": [
    "'Saturn' in planet_to_initial"
   ]
  },
  {
   "cell_type": "markdown",
   "id": "074c235e-b0d0-459d-84ad-607417b4ddcc",
   "metadata": {},
   "source": [
    "<font size=\"3\"> A `for` loop over a dictionery will loop over its keys</font>"
   ]
  },
  {
   "cell_type": "code",
   "execution_count": 11,
   "id": "abee4246-6577-4e2c-b514-282737806120",
   "metadata": {},
   "outputs": [
    {
     "name": "stdout",
     "output_type": "stream",
     "text": [
      "one = ['pluto']\n",
      "two = 2\n",
      "three = 3\n",
      "eleven = 11\n"
     ]
    }
   ],
   "source": [
    "for i in numbers:\n",
    "    print(\"{} = {}\".format(i, numbers[i]))"
   ]
  },
  {
   "cell_type": "markdown",
   "id": "c4a8c172-2650-416a-85a8-42cdeee5eb22",
   "metadata": {},
   "source": [
    "<font size=\"3\"> we can access a collection of all the keys or all the values with `dict.keys()` and `dict.values()`, respectively. </font>"
   ]
  },
  {
   "cell_type": "code",
   "execution_count": 12,
   "id": "247a9595-8434-45f1-98ba-225119d63aca",
   "metadata": {},
   "outputs": [
    {
     "data": {
      "text/plain": [
       "'E J M M N S U V'"
      ]
     },
     "execution_count": 12,
     "metadata": {},
     "output_type": "execute_result"
    }
   ],
   "source": [
    "# Get all the initials, sort them alphabetically, and put them in a space-separated string.\n",
    "' '.join(sorted(planet_to_initial.values()))"
   ]
  },
  {
   "cell_type": "markdown",
   "id": "69401bc0-8497-476d-989b-b5664bec06ab",
   "metadata": {},
   "source": [
    "The very useful `dict.items()` method lets us iterate over the keys and values of a dictionary simultaneously."
   ]
  },
  {
   "cell_type": "code",
   "execution_count": 14,
   "id": "cd5825cd-bd7e-4d25-b9be-7f731c7bf732",
   "metadata": {},
   "outputs": [
    {
     "name": "stdout",
     "output_type": "stream",
     "text": [
      "   Mercury begins with \"M\"\n",
      "     Venus begins with \"V\"\n",
      "     Earth begins with \"E\"\n",
      "      Mars begins with \"M\"\n",
      "   Jupiter begins with \"J\"\n",
      "    Saturn begins with \"S\"\n",
      "    Uranus begins with \"U\"\n",
      "   Neptune begins with \"N\"\n"
     ]
    }
   ],
   "source": [
    "for planet, initial in planet_to_initial.items():\n",
    "    print(\"{} begins with \\\"{}\\\"\".format(planet.rjust(10), initial))"
   ]
  },
  {
   "cell_type": "code",
   "execution_count": 15,
   "id": "cbbdb636-35da-4645-a15b-21f6f4114e34",
   "metadata": {},
   "outputs": [
    {
     "name": "stdout",
     "output_type": "stream",
     "text": [
      "Help on class dict in module builtins:\n",
      "\n",
      "class dict(object)\n",
      " |  dict() -> new empty dictionary\n",
      " |  dict(mapping) -> new dictionary initialized from a mapping object's\n",
      " |      (key, value) pairs\n",
      " |  dict(iterable) -> new dictionary initialized as if via:\n",
      " |      d = {}\n",
      " |      for k, v in iterable:\n",
      " |          d[k] = v\n",
      " |  dict(**kwargs) -> new dictionary initialized with the name=value pairs\n",
      " |      in the keyword argument list.  For example:  dict(one=1, two=2)\n",
      " |\n",
      " |  Built-in subclasses:\n",
      " |      StgDict\n",
      " |\n",
      " |  Methods defined here:\n",
      " |\n",
      " |  __contains__(self, key, /)\n",
      " |      True if the dictionary has the specified key, else False.\n",
      " |\n",
      " |  __delitem__(self, key, /)\n",
      " |      Delete self[key].\n",
      " |\n",
      " |  __eq__(self, value, /)\n",
      " |      Return self==value.\n",
      " |\n",
      " |  __ge__(self, value, /)\n",
      " |      Return self>=value.\n",
      " |\n",
      " |  __getattribute__(self, name, /)\n",
      " |      Return getattr(self, name).\n",
      " |\n",
      " |  __getitem__(self, key, /)\n",
      " |      Return self[key].\n",
      " |\n",
      " |  __gt__(self, value, /)\n",
      " |      Return self>value.\n",
      " |\n",
      " |  __init__(self, /, *args, **kwargs)\n",
      " |      Initialize self.  See help(type(self)) for accurate signature.\n",
      " |\n",
      " |  __ior__(self, value, /)\n",
      " |      Return self|=value.\n",
      " |\n",
      " |  __iter__(self, /)\n",
      " |      Implement iter(self).\n",
      " |\n",
      " |  __le__(self, value, /)\n",
      " |      Return self<=value.\n",
      " |\n",
      " |  __len__(self, /)\n",
      " |      Return len(self).\n",
      " |\n",
      " |  __lt__(self, value, /)\n",
      " |      Return self<value.\n",
      " |\n",
      " |  __ne__(self, value, /)\n",
      " |      Return self!=value.\n",
      " |\n",
      " |  __or__(self, value, /)\n",
      " |      Return self|value.\n",
      " |\n",
      " |  __repr__(self, /)\n",
      " |      Return repr(self).\n",
      " |\n",
      " |  __reversed__(self, /)\n",
      " |      Return a reverse iterator over the dict keys.\n",
      " |\n",
      " |  __ror__(self, value, /)\n",
      " |      Return value|self.\n",
      " |\n",
      " |  __setitem__(self, key, value, /)\n",
      " |      Set self[key] to value.\n",
      " |\n",
      " |  __sizeof__(...)\n",
      " |      D.__sizeof__() -> size of D in memory, in bytes\n",
      " |\n",
      " |  clear(...)\n",
      " |      D.clear() -> None.  Remove all items from D.\n",
      " |\n",
      " |  copy(...)\n",
      " |      D.copy() -> a shallow copy of D\n",
      " |\n",
      " |  get(self, key, default=None, /)\n",
      " |      Return the value for key if key is in the dictionary, else default.\n",
      " |\n",
      " |  items(...)\n",
      " |      D.items() -> a set-like object providing a view on D's items\n",
      " |\n",
      " |  keys(...)\n",
      " |      D.keys() -> a set-like object providing a view on D's keys\n",
      " |\n",
      " |  pop(...)\n",
      " |      D.pop(k[,d]) -> v, remove specified key and return the corresponding value.\n",
      " |\n",
      " |      If the key is not found, return the default if given; otherwise,\n",
      " |      raise a KeyError.\n",
      " |\n",
      " |  popitem(self, /)\n",
      " |      Remove and return a (key, value) pair as a 2-tuple.\n",
      " |\n",
      " |      Pairs are returned in LIFO (last-in, first-out) order.\n",
      " |      Raises KeyError if the dict is empty.\n",
      " |\n",
      " |  setdefault(self, key, default=None, /)\n",
      " |      Insert key with a value of default if key is not in the dictionary.\n",
      " |\n",
      " |      Return the value for key if key is in the dictionary, else default.\n",
      " |\n",
      " |  update(...)\n",
      " |      D.update([E, ]**F) -> None.  Update D from dict/iterable E and F.\n",
      " |      If E is present and has a .keys() method, then does:  for k in E: D[k] = E[k]\n",
      " |      If E is present and lacks a .keys() method, then does:  for k, v in E: D[k] = v\n",
      " |      In either case, this is followed by: for k in F:  D[k] = F[k]\n",
      " |\n",
      " |  values(...)\n",
      " |      D.values() -> an object providing a view on D's values\n",
      " |\n",
      " |  ----------------------------------------------------------------------\n",
      " |  Class methods defined here:\n",
      " |\n",
      " |  __class_getitem__(...)\n",
      " |      See PEP 585\n",
      " |\n",
      " |  fromkeys(iterable, value=None, /)\n",
      " |      Create a new dictionary with keys from iterable and values set to value.\n",
      " |\n",
      " |  ----------------------------------------------------------------------\n",
      " |  Static methods defined here:\n",
      " |\n",
      " |  __new__(*args, **kwargs)\n",
      " |      Create and return a new object.  See help(type) for accurate signature.\n",
      " |\n",
      " |  ----------------------------------------------------------------------\n",
      " |  Data and other attributes defined here:\n",
      " |\n",
      " |  __hash__ = None\n",
      "\n"
     ]
    }
   ],
   "source": [
    "help(dict)"
   ]
  },
  {
   "cell_type": "code",
   "execution_count": null,
   "id": "92392d91-eab9-492b-ac64-618176af71cb",
   "metadata": {},
   "outputs": [],
   "source": []
  }
 ],
 "metadata": {
  "kernelspec": {
   "display_name": "Python 3 (ipykernel)",
   "language": "python",
   "name": "python3"
  },
  "language_info": {
   "codemirror_mode": {
    "name": "ipython",
    "version": 3
   },
   "file_extension": ".py",
   "mimetype": "text/x-python",
   "name": "python",
   "nbconvert_exporter": "python",
   "pygments_lexer": "ipython3",
   "version": "3.12.5"
  }
 },
 "nbformat": 4,
 "nbformat_minor": 5
}
