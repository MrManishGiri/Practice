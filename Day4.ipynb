{
 "cells": [
  {
   "cell_type": "markdown",
   "id": "0f6190d0-8f0f-4658-acc7-cc38d7fb4e84",
   "metadata": {},
   "source": [
    "### there are higher-order functions built into Python. this is an example using the max function. by default, max function returns the largest of its arguments. But if we pass in a function using the optional key argument, it returns the argument x that maximizes key(x) (aka the 'argmax')."
   ]
  },
  {
   "cell_type": "code",
   "execution_count": 2,
   "id": "66e1b961-5fd3-48d3-b217-87f775a62d4c",
   "metadata": {},
   "outputs": [
    {
     "name": "stdout",
     "output_type": "stream",
     "text": [
      "Which number is biggest?\n",
      "100\n",
      "which number is the biggest modulo 5\n",
      "14\n"
     ]
    }
   ],
   "source": [
    "def mod_5(x):\n",
    "    \"\"\" Return the remainder of x after dividing by 5\"\"\"\n",
    "    return x % 5\n",
    "print(\n",
    "    'Which number is biggest?',\n",
    "    max(100, 51, 14),\n",
    "    'which number is the biggest modulo 5',\n",
    "    max(100, 51, 14, key= mod_5),\n",
    "    sep='\\n',\n",
    ")"
   ]
  },
  {
   "cell_type": "code",
   "execution_count": 3,
   "id": "a7b2825f-8200-41a4-9e5a-2f161b922bf3",
   "metadata": {},
   "outputs": [
    {
     "name": "stdout",
     "output_type": "stream",
     "text": [
      "The remainder of 100 when divided by 5 is 0\n",
      "The remainder of 51 when divided by 5 is 1\n",
      "The remainder of 14 when divided by 5 is 4\n",
      "Which number is biggest?\n",
      "100\n",
      "Which number is the biggest modulo 5?\n",
      "14\n"
     ]
    }
   ],
   "source": [
    "def mod_5(x):\n",
    "    \"\"\"Return the remainder of x after dividing by 5\"\"\"\n",
    "    return x % 5\n",
    "\n",
    "def print_modulos(*args):\n",
    "    \"\"\"Print the modulo of each number in args when divided by 5\"\"\"\n",
    "    for number in args:\n",
    "        print(f'The remainder of {number} when divided by 5 is {mod_5(number)}')\n",
    "\n",
    "# List of numbers to check\n",
    "numbers = [100, 51, 14]\n",
    "\n",
    "# Print the modulo of each number\n",
    "print_modulos(*numbers)\n",
    "\n",
    "# Print the maximum values\n",
    "print(\n",
    "    'Which number is biggest?',\n",
    "    max(numbers),\n",
    "    'Which number is the biggest modulo 5?',\n",
    "    max(numbers, key=mod_5),\n",
    "    sep='\\n',\n",
    ")"
   ]
  },
  {
   "cell_type": "code",
   "execution_count": 1,
   "id": "29e0bd6d-3da8-4f49-b287-820954a47ba2",
   "metadata": {},
   "outputs": [
    {
     "name": "stdout",
     "output_type": "stream",
     "text": [
      "Hello, World!\n",
      "5\n",
      "<class 'int'>\n"
     ]
    }
   ],
   "source": [
    "print(\"Hello, World!\")\n",
    "print(len(\"Hello\"))\n",
    "print(type(123))\n"
   ]
  },
  {
   "cell_type": "code",
   "execution_count": null,
   "id": "2ae2fd52-1977-4800-ba09-f6e7ae34b53d",
   "metadata": {},
   "outputs": [],
   "source": []
  }
 ],
 "metadata": {
  "kernelspec": {
   "display_name": "Python 3 (ipykernel)",
   "language": "python",
   "name": "python3"
  },
  "language_info": {
   "codemirror_mode": {
    "name": "ipython",
    "version": 3
   },
   "file_extension": ".py",
   "mimetype": "text/x-python",
   "name": "python",
   "nbconvert_exporter": "python",
   "pygments_lexer": "ipython3",
   "version": "3.12.4"
  }
 },
 "nbformat": 4,
 "nbformat_minor": 5
}
