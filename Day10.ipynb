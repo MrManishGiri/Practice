{
 "cells": [
  {
   "cell_type": "markdown",
   "id": "55126cc9-d4ae-4596-8e97-a82c8bf6fd54",
   "metadata": {},
   "source": [
    "# Problems related to List, Tuples and others"
   ]
  },
  {
   "cell_type": "markdown",
   "id": "c57a7394-8205-4aba-8467-16721fd7ba0f",
   "metadata": {},
   "source": [
    "# 1."
   ]
  },
  {
   "cell_type": "markdown",
   "id": "8bb936ea-9004-41b3-a6c8-b9f198940e8c",
   "metadata": {},
   "source": [
    "### Return the second element of the given list. If the list has no second element, return None."
   ]
  },
  {
   "cell_type": "code",
   "execution_count": 2,
   "id": "783d671a-a87a-4c11-8a29-f2e51281a3db",
   "metadata": {},
   "outputs": [],
   "source": [
    "L=[1,2,3,4,5,6]"
   ]
  },
  {
   "cell_type": "code",
   "execution_count": 5,
   "id": "9555398e-7eee-49db-9db9-6adff71dec46",
   "metadata": {},
   "outputs": [
    {
     "name": "stdout",
     "output_type": "stream",
     "text": [
      "2\n"
     ]
    }
   ],
   "source": [
    "def select_second(L):\n",
    "    \"\"\"Return the second element of the given list. If the list has no second element, return None.\n",
    "    \"\"\"\n",
    "    if len(L)>=2:\n",
    "        return L[1]\n",
    "    else:\n",
    "        return None\n",
    "        \n",
    "# Defining the list\n",
    "L=[1,2,3,4,5,6]\n",
    "\n",
    "#call the function and print the result\n",
    "result = select_second(L)\n",
    "print(result)"
   ]
  },
  {
   "cell_type": "markdown",
   "id": "3ee75db7-f466-4a6f-9f66-5f91a63cbb34",
   "metadata": {},
   "source": [
    "# 2.\n",
    "You are analyzing sports teams.  Members of each team are stored in a list. The Coach is the first name in the list, the captain is the second name in the list, and other players are listed after that. \n",
    "These lists are stored in another list, which starts with the best team and proceeds through the list to the worst team last.  Complete the function below to select the **captain** of the worst team."
   ]
  },
  {
   "cell_type": "code",
   "execution_count": 6,
   "id": "b51893ca-e87d-4746-a2c0-9809faa26acf",
   "metadata": {},
   "outputs": [
    {
     "name": "stdout",
     "output_type": "stream",
     "text": [
      "captain3\n"
     ]
    }
   ],
   "source": [
    "def losing_team_captain(teams):\n",
    "    \"\"\"Given a list of teams, where each team is a list of name, return the 2nd player (captain) from the last listed team\n",
    "    \"\"\"\n",
    "    last_team = teams[-1]\n",
    "    captain = last_team[1]\n",
    "    return captain\n",
    "\n",
    "teams=[\n",
    "    [\"coach1\", \"captain1\", \"other players1\"],\n",
    "    [\"coach2\", \"captain2\", \"other players2\"],\n",
    "    [\"coach3\", \"captain3\", \"other players3\"],\n",
    "]\n",
    "\n",
    "result = losing_team_captain(teams)\n",
    "print(result)\n",
    "    "
   ]
  },
  {
   "cell_type": "markdown",
   "id": "6e309eda-23c6-4b74-9e6f-64ddcad561d3",
   "metadata": {},
   "source": [
    "# 3.\n",
    "\n",
    "The next iteration of Mario Kart will feature an extra-infuriating new item, the *Purple Shell*. When used, it warps the last place racer into first place and the first place racer into last place. Complete the function below to implement the Purple Shell's effect."
   ]
  },
  {
   "cell_type": "code",
   "execution_count": 3,
   "id": "0ca17bc3-b894-4243-aa3e-ade2a9132d18",
   "metadata": {},
   "outputs": [
    {
     "name": "stdout",
     "output_type": "stream",
     "text": [
      "['Mario', 'Bowser', 'Luigi']\n"
     ]
    }
   ],
   "source": [
    "def purple_shell(racers):\n",
    "    \"\"\"Given a list of racers, set the first place racer(at the front of the list) to last place and vice versa.\n",
    "    >>> r = [\"Mario\",\"Bowser\", \"Luigi\"]\n",
    "    >>>purple_shell(r)\n",
    "    >>> r\n",
    "    [\"Luigi\", \"Bowser\", \"Mario\"]\n",
    "    \n",
    "    \"\"\"\n",
    "    if len(racers) > 1:\n",
    "        racers[0], racers[-1] = racers[-1], racers[0]\n",
    "\n",
    "racers =  [\"Luigi\", \"Bowser\", \"Mario\"]\n",
    "purple_shell(racers)\n",
    "print(racers)"
   ]
  },
  {
   "cell_type": "markdown",
   "id": "e2a7f502-1f5f-410b-8232-42293bdcd4ef",
   "metadata": {},
   "source": [
    "# 4.\n",
    "\n",
    "What are the lengths of the following lists? Fill in the variable `lengths` with your predictions. (Try to make a prediction for each list *without* just calling `len()` on it.)\n"
   ]
  },
  {
   "cell_type": "code",
   "execution_count": 6,
   "id": "6738e37e-d17d-48d1-9dd0-d5272beefbeb",
   "metadata": {},
   "outputs": [
    {
     "name": "stdout",
     "output_type": "stream",
     "text": [
      "[3, 2, 0, 2]\n"
     ]
    }
   ],
   "source": [
    "a = [1,2,3]\n",
    "b = [1, [2, 3]]\n",
    "c = []\n",
    "d = [1, 2, 3][1:]\n",
    " \n",
    "# put your predictions in the list below. Lengths should contain 4 numbers, the first being the length of a, the second being the length of b and so on.\n",
    "# this is my answer:\n",
    "\"\"\" lengths = [3, 2, 0, 2] \"\"\"\n",
    "\n",
    "# let check if it is true or not.\n",
    "lengths = [len(a), len(b), len(c), len(d)]\n",
    "print(lengths)\n"
   ]
  },
  {
   "cell_type": "markdown",
   "id": "668b0d6e-b616-4066-8bcc-4c91d9706e85",
   "metadata": {},
   "source": [
    "# 5. <span title=\"A bit spicy\" style=\"color: darkgreen \">🌶️</span>\n",
    "\n",
    "We're using lists to record people who attended our party and what order they arrived in. For example, the following list represents a party with 7 guests, in which Adela showed up first and Ford was the last to arrive:\n",
    "\n",
    "    party_attendees = ['Adela', 'Fleda', 'Owen', 'May', 'Mona', 'Gilbert', 'Ford']\n",
    "\n",
    "A guest is considered 'fashionably late' if they arrived after at least half of the party's guests. However, they must not be the very last guest (that's taking it too far). In the above example, Mona and Gilbert are the only guests who were fashionably late.\n",
    "\n",
    "Complete the function below which takes a list of party attendees as well as a person, and tells us whether that person is fashionably late."
   ]
  },
  {
   "cell_type": "code",
   "execution_count": 9,
   "id": "a707b6f4-fad1-4d1b-9fa2-5fa691cc07f9",
   "metadata": {},
   "outputs": [
    {
     "name": "stdout",
     "output_type": "stream",
     "text": [
      "False\n",
      "False\n",
      "True\n"
     ]
    }
   ],
   "source": [
    "def fashionably_late(arrivals,  name):\n",
    "    \"\"\" Given an ordered list of arrivals to the party and a name, return whether the guest with that name was fashionably late.\n",
    "    \"\"\"\n",
    "    # Checking the index of the attendee's\n",
    "    position = arrivals.index(name)\n",
    "\n",
    "    # checking the total_guests arrived\n",
    "    total_guests = len(arrivals)\n",
    "\n",
    "    # now checking the fashionably late attendee\n",
    "    if position >= total_guests / 2 and position != total_guests - 1:\n",
    "        return True\n",
    "    else:\n",
    "        return False\n",
    "\n",
    "# Example\n",
    "party_attendees = ['Adela', 'Fleda', 'Owen', 'May', 'Mona', 'Gilbert', 'Ford']\n",
    "print(fashionably_late(party_attendees, 'May'))\n",
    "print(fashionably_late(party_attendees, 'Ford'))\n",
    "print(fashionably_late(party_attendees, 'Mona'))"
   ]
  }
 ],
 "metadata": {
  "kernelspec": {
   "display_name": "Python 3 (ipykernel)",
   "language": "python",
   "name": "python3"
  },
  "language_info": {
   "codemirror_mode": {
    "name": "ipython",
    "version": 3
   },
   "file_extension": ".py",
   "mimetype": "text/x-python",
   "name": "python",
   "nbconvert_exporter": "python",
   "pygments_lexer": "ipython3",
   "version": "3.12.4"
  }
 },
 "nbformat": 4,
 "nbformat_minor": 5
}
