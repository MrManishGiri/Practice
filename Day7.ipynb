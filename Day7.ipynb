{
 "cells": [
  {
   "cell_type": "markdown",
   "id": "a3a5fb77-847d-4709-b4df-73f5a422cf90",
   "metadata": {},
   "source": [
    "# 3. <span title=\"A bit spicy\" style=\"color: darkgreen \">🌶️</span>\n",
    "\n",
    "In the tutorial, we talked about deciding whether we're prepared for the weather. I said that I'm safe from today's weather if...\n",
    "- I have an umbrella...\n",
    "- or if the rain isn't too heavy and I have a hood...\n",
    "- otherwise, I'm still fine unless it's raining *and* it's a workday\n",
    "\n",
    "The function below uses our first attempt at turning this logic into a Python expression. I claimed that there was a bug in that code. Can you find it?\n",
    "\n",
    "To prove that `prepared_for_weather` is buggy, come up with a set of inputs where either:\n",
    "- the function returns `False` (but should have returned `True`), or\n",
    "- the function returned `True` (but should have returned `False`).\n",
    "\n",
    "To get credit for completing this question, your code should return a <font color='#33cc33'>Correct</font> result."
   ]
  },
  {
   "cell_type": "code",
   "execution_count": 2,
   "id": "a5f96c0f-e05c-40ed-8276-01fcb0db530c",
   "metadata": {},
   "outputs": [
    {
     "name": "stdout",
     "output_type": "stream",
     "text": [
      "True\n"
     ]
    }
   ],
   "source": [
    "def prepared_for_weather(have_umbrella, rain_level, have_hood, is_workday):\n",
    "    # Don't change this code. Our goal is just to find the bug, not fix it!\n",
    "    return have_umbrella or rain_level < 5 and have_hood or not (rain_level > 0 and is_workday)\n",
    "\n",
    "# Change the values of these inputs so they represent a case where prepared_for_weather\n",
    "# returns the wrong answer.\n",
    "have_umbrella =False\n",
    "rain_level = 0.0\n",
    "have_hood = False\n",
    "is_workday = False\n",
    "\n",
    "# Check what the function returns given the current values of the variables above\n",
    "actual = prepared_for_weather(have_umbrella, rain_level, have_hood, is_workday)\n",
    "print(actual)\n"
   ]
  },
  {
   "cell_type": "markdown",
   "id": "83382891-ced5-475b-8c28-56377327c628",
   "metadata": {},
   "source": [
    "Clearly we're prepared for the weather in this case. It's not raining. Not only that, it's not a workday, so we don't even need to leave the house! But our function will return False on these inputs.\n",
    "\n",
    "The key problem is that Python implictly parenthesizes the last part as:"
   ]
  },
  {
   "cell_type": "code",
   "execution_count": 3,
   "id": "0f533025-b4fe-4d50-ba63-868b7b7c838e",
   "metadata": {},
   "outputs": [],
   "source": [
    "# not (rain_level > 0 and is_workday)"
   ]
  },
  {
   "cell_type": "markdown",
   "id": "becf21fd-1fe7-40aa-b5fd-637302a50ed2",
   "metadata": {},
   "source": [
    "# 4\n",
    "The function is_negative below is implemented correctly - it returns True if the given number is negative and False otherwise.\n",
    "\n",
    "However, it's more verbose than it needs to be. We can actually reduce the number of lines of code in this function by 75% while keeping the same behaviour.\n",
    "\n",
    "See if you can come up with an equivalent body that uses just one line of code, and put it in the function concise_is_negative. (HINT: you don't even need Python's ternary syntax)"
   ]
  },
  {
   "cell_type": "code",
   "execution_count": 4,
   "id": "16a08288-a51e-449e-9261-4ef1eb71da88",
   "metadata": {},
   "outputs": [
    {
     "data": {
      "text/plain": [
       "False"
      ]
     },
     "execution_count": 4,
     "metadata": {},
     "output_type": "execute_result"
    }
   ],
   "source": [
    "def is_negative(number):\n",
    "    if number < 0:\n",
    "        return True\n",
    "    else:\n",
    "        return False\n",
    "\n",
    "def concise_is_negative(number):\n",
    "    return(True if number < 0 else False)\n",
    "\n",
    "concise_is_negative(100)"
   ]
  },
  {
   "cell_type": "markdown",
   "id": "02ec056e-3e60-41ef-bc82-65db3d76aa84",
   "metadata": {},
   "source": [
    "# 5a.\n",
    "\n",
    "The boolean variables `ketchup`, `mustard` and `onion` represent whether a customer wants a particular topping on their hot dog. We want to implement a number of boolean functions that correspond to some yes-or-no questions about the customer's order. For example:"
   ]
  },
  {
   "cell_type": "code",
   "execution_count": 8,
   "id": "2924663f-6362-4a89-8d0d-1e0c8c98320d",
   "metadata": {},
   "outputs": [],
   "source": [
    "def wants_all_toppings(ketchup, mustard, onion):\n",
    "    \"\"\"Return whether the customer wants \"the works\" (all 3 toppings)\n",
    "    \"\"\"\n",
    "    return ketchup and mustard and onion\n"
   ]
  },
  {
   "cell_type": "markdown",
   "id": "8ea300be-8f0f-46f5-96d6-6c5c759ab810",
   "metadata": {},
   "source": [
    "# 5b."
   ]
  },
  {
   "cell_type": "code",
   "execution_count": 7,
   "id": "2298c120-b78c-462e-89d8-24b33842302d",
   "metadata": {},
   "outputs": [],
   "source": [
    "def wants_plain_hotdog(ketchup, mustard, onion):\n",
    "    \"\"\"Return whether the customer wants a plain hot dog with no toppings.\n",
    "    \"\"\"\n",
    "    return not ketchup and not mustard and not onion\n",
    "    # alternate method of writing the solution is \n",
    "    # return not(ketchup or mustard or onion)"
   ]
  },
  {
   "cell_type": "markdown",
   "id": "38ca0709-b8cc-4096-b45c-9d1411b87af8",
   "metadata": {},
   "source": [
    "# 5c."
   ]
  },
  {
   "cell_type": "code",
   "execution_count": 8,
   "id": "b50cbf5f-f1ed-4beb-a063-9b2150ad5369",
   "metadata": {},
   "outputs": [],
   "source": [
    "def exactly_one_sauce(ketchup, mustard, onion):\n",
    "    \"\"\" Return whether the customer wants either ketchup or mustard, but not both.\n",
    "    (you may be familiar with this operation under the name \"exclusive or\")\n",
    "    \"\"\"\n",
    "    return ((ketchup^mustard) and onion)\n"
   ]
  },
  {
   "cell_type": "code",
   "execution_count": null,
   "id": "176c02ac-67d8-4b0c-b8d2-982e0b439d4c",
   "metadata": {},
   "outputs": [],
   "source": []
  }
 ],
 "metadata": {
  "kernelspec": {
   "display_name": "Python 3 (ipykernel)",
   "language": "python",
   "name": "python3"
  },
  "language_info": {
   "codemirror_mode": {
    "name": "ipython",
    "version": 3
   },
   "file_extension": ".py",
   "mimetype": "text/x-python",
   "name": "python",
   "nbconvert_exporter": "python",
   "pygments_lexer": "ipython3",
   "version": "3.12.4"
  }
 },
 "nbformat": 4,
 "nbformat_minor": 5
}
