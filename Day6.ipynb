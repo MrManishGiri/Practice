{
 "cells": [
  {
   "cell_type": "markdown",
   "id": "61959dc5-2626-4967-ab47-901a1dc7b36b",
   "metadata": {},
   "source": [
    "# Continue of Previous Boolean and Conditionals"
   ]
  },
  {
   "cell_type": "markdown",
   "id": "78cc161b-e438-4614-9584-c5d4d9f81bdb",
   "metadata": {},
   "source": [
    "Combining Boolean Values"
   ]
  },
  {
   "cell_type": "code",
   "execution_count": 5,
   "id": "3ae57791-7231-4e60-814e-23537df14eb1",
   "metadata": {},
   "outputs": [
    {
     "name": "stdout",
     "output_type": "stream",
     "text": [
      "False\n",
      "False\n",
      "False\n",
      "False\n",
      "False\n",
      "True\n"
     ]
    }
   ],
   "source": [
    "def can_run_for_president(age, is_natural_born_citizen, immigrant):\n",
    "    \"\"\" can someone of the given age and citizenship status run for president in the Nepal?\"\"\"\n",
    "    # The constitution of Nepal says you must be a natural born citizen *and* at least 45 years old *and* must have Citizenship by descent.\n",
    "    return is_natural_born_citizen and (age>=45) and not immigrant\n",
    "\n",
    "print(can_run_for_president(19, True, False))\n",
    "print(can_run_for_president(19, True, True))\n",
    "print(can_run_for_president(35, True, False))\n",
    "print(can_run_for_president(35, False, True))\n",
    "print(can_run_for_president(45, True, True))\n",
    "print(can_run_for_president(45, True, False))"
   ]
  },
  {
   "cell_type": "markdown",
   "id": "e60b8aec-dd70-4c8c-a086-9f67fe478f02",
   "metadata": {},
   "source": [
    "# Conditionals"
   ]
  },
  {
   "cell_type": "markdown",
   "id": "5a449c74-c618-46be-8446-bc9a5bf4e896",
   "metadata": {},
   "source": [
    "* Booleans are most useful when combined with conditional statements, using the keywords if, elif, and else."
   ]
  },
  {
   "cell_type": "code",
   "execution_count": 2,
   "id": "4d094f25-7cee-4884-af1c-79650cad3f94",
   "metadata": {},
   "outputs": [
    {
     "name": "stdout",
     "output_type": "stream",
     "text": [
      "0 is zero\n",
      "-15 is negative\n"
     ]
    }
   ],
   "source": [
    "def inspect(x):\n",
    "    if x == 0:\n",
    "         print (x, \"is zero\")\n",
    "    elif x > 0:\n",
    "        print (x, \"is positive\")\n",
    "    elif x < 0:\n",
    "        print (x, \"is negative\")\n",
    "    else:\n",
    "        print (x, \"is unlike anything I've ever seen...\")\n",
    "\n",
    "inspect(0)\n",
    "inspect(-15)"
   ]
  },
  {
   "cell_type": "code",
   "execution_count": 3,
   "id": "efe9a10b-5f92-4163-be03-963cc714dc18",
   "metadata": {},
   "outputs": [
    {
     "name": "stdout",
     "output_type": "stream",
     "text": [
      "only printed when x is positive; x= 1\n",
      "Also only printed when x is positive; x= 1\n",
      "Always printed, regardless of x's is value; x= 1\n",
      "Always printed, regardless of x's is value; x= -1\n",
      "Always printed, regardless of x's is value; x= 0\n"
     ]
    }
   ],
   "source": [
    "def f(x):\n",
    "    if x > 0:\n",
    "        print (\"only printed when x is positive; x=\", x)\n",
    "        print (\"Also only printed when x is positive; x=\", x)\n",
    "    print (\"Always printed, regardless of x's is value; x=\", x)\n",
    "\n",
    "f(1)\n",
    "f(-1)\n",
    "f(0)\n",
    "        "
   ]
  },
  {
   "cell_type": "markdown",
   "id": "8dbdead4-a8c8-4d3a-84ff-be7f1dc90dc2",
   "metadata": {},
   "source": [
    "# Boolean Conversion"
   ]
  },
  {
   "cell_type": "code",
   "execution_count": 4,
   "id": "5809a5bd-9c7b-492e-932e-fb6df05c2bf2",
   "metadata": {},
   "outputs": [
    {
     "name": "stdout",
     "output_type": "stream",
     "text": [
      "True\n",
      "False\n",
      "True\n",
      "False\n"
     ]
    }
   ],
   "source": [
    "print(bool(1)) # all numbers are treated as true, except 0\n",
    "print(bool(0))\n",
    "print(bool(\"asf\")) # all strings are treated as true, except the empty string \"\"\n",
    "print(bool(\"\"))\n",
    "# Generally empty sequences (strings, lists, and other types yet to see like lists and tuples)"
   ]
  },
  {
   "cell_type": "markdown",
   "id": "d35e9143-da0f-4a64-b665-59d39f9504bd",
   "metadata": {},
   "source": [
    "*We can use non-boolean objects in if conditions and other places where a boolean would be expected. Python will implicitly treat them as their corresponding boolean value:*"
   ]
  },
  {
   "cell_type": "code",
   "execution_count": 8,
   "id": "bc16d9d4-d08f-41f4-9854-f232d1d2192f",
   "metadata": {},
   "outputs": [
    {
     "name": "stdout",
     "output_type": "stream",
     "text": [
      "spam\n"
     ]
    },
    {
     "data": {
      "text/plain": [
       "0"
      ]
     },
     "execution_count": 8,
     "metadata": {},
     "output_type": "execute_result"
    }
   ],
   "source": [
    "if 0:\n",
    "    print(0)\n",
    "\n",
    "elif \"spam\":\n",
    "    print(\"spam\")"
   ]
  },
  {
   "cell_type": "markdown",
   "id": "4eb521a3-f511-4e5a-8663-3b97ef9076eb",
   "metadata": {},
   "source": [
    "Many programming languages have sign available as a built-in function. Python doesn't, but we can define our own!\n",
    "\n",
    "In the cell below, define a function called sign which takes a numerical argument and returns -1 if it's negative, 1 if it's positive, and 0 if it's 0."
   ]
  },
  {
   "cell_type": "code",
   "execution_count": 9,
   "id": "6ef02401-b009-4b86-8007-14416d57d771",
   "metadata": {},
   "outputs": [],
   "source": [
    "def sign(x):\n",
    "    if x > 0:\n",
    "        return 1\n",
    "    elif x < 0:\n",
    "        return -1\n",
    "    else:\n",
    "        return 0"
   ]
  },
  {
   "cell_type": "code",
   "execution_count": 12,
   "id": "5bc91ca0-6f78-4960-8f25-fbb68a8b3e31",
   "metadata": {},
   "outputs": [
    {
     "data": {
      "text/plain": [
       "-1"
      ]
     },
     "execution_count": 12,
     "metadata": {},
     "output_type": "execute_result"
    }
   ],
   "source": [
    "sign(-2)"
   ]
  },
  {
   "cell_type": "markdown",
   "id": "3ffd98c6-9b81-4803-abce-92c3cbce589a",
   "metadata": {},
   "source": [
    "Modify the definition in the cell below to correct the grammar of our print statement. (If there's only one candy, we should use the singular \"candy\" instead of the plural \"candies\")"
   ]
  },
  {
   "cell_type": "code",
   "execution_count": 12,
   "id": "006bd5dc-906a-45b1-8b8c-2a939361df67",
   "metadata": {},
   "outputs": [
    {
     "name": "stdout",
     "output_type": "stream",
     "text": [
      "Splitting 91 candies\n",
      "splitting 1 candy\n"
     ]
    },
    {
     "data": {
      "text/plain": [
       "1"
      ]
     },
     "execution_count": 12,
     "metadata": {},
     "output_type": "execute_result"
    }
   ],
   "source": [
    "def to_smash(total_candies):\n",
    "    \"\"\"Return the number of leftover candies that must be smashed after distributing\n",
    "    the given number of candies evenly between 3 friends.\n",
    "    \n",
    "    >>> to_smash(91)\n",
    "    1\n",
    "    \"\"\"\n",
    "    if total_candies > 1:\n",
    "        print(\"Splitting\", total_candies, \"candies\")\n",
    "    else:\n",
    "        print (\"splitting\",total_candies,\"candy\" )\n",
    "    return total_candies % 3\n",
    "\n",
    "to_smash(91)\n",
    "to_smash(1)"
   ]
  },
  {
   "cell_type": "code",
   "execution_count": null,
   "id": "0ea1bde7-2fc9-4b6c-b7eb-cb592b6d8ab7",
   "metadata": {},
   "outputs": [],
   "source": []
  }
 ],
 "metadata": {
  "kernelspec": {
   "display_name": "Python 3 (ipykernel)",
   "language": "python",
   "name": "python3"
  },
  "language_info": {
   "codemirror_mode": {
    "name": "ipython",
    "version": 3
   },
   "file_extension": ".py",
   "mimetype": "text/x-python",
   "name": "python",
   "nbconvert_exporter": "python",
   "pygments_lexer": "ipython3",
   "version": "3.12.4"
  }
 },
 "nbformat": 4,
 "nbformat_minor": 5
}
